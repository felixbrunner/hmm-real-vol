{
 "cells": [
  {
   "cell_type": "markdown",
   "metadata": {},
   "source": [
    "# Data Import"
   ]
  },
  {
   "cell_type": "markdown",
   "metadata": {},
   "source": [
    "## Imports"
   ]
  },
  {
   "cell_type": "code",
   "execution_count": 1,
   "metadata": {
    "pycharm": {
     "is_executing": false
    }
   },
   "outputs": [],
   "source": [
    "%load_ext autoreload\n",
    "%autoreload 2"
   ]
  },
  {
   "cell_type": "code",
   "execution_count": 2,
   "metadata": {
    "pycharm": {
     "is_executing": false
    }
   },
   "outputs": [
    {
     "name": "stderr",
     "output_type": "stream",
     "text": [
      "C:\\ProgramData\\Anaconda3\\lib\\site-packages\\statsmodels\\compat\\pandas.py:49: FutureWarning: The Panel class is removed from pandas. Accessing it from the top-level namespace will also be removed in the next version\n",
      "  data_klasses = (pandas.Series, pandas.DataFrame, pandas.Panel)\n",
      "C:\\ProgramData\\Anaconda3\\lib\\site-packages\\linearmodels\\panel\\data.py:4: FutureWarning: The Panel class is removed from pandas. Accessing it from the top-level namespace will also be removed in the next version\n",
      "  from pandas import DataFrame, Panel, Series, MultiIndex, get_dummies, Categorical\n"
     ]
    }
   ],
   "source": [
    "import numpy as np\n",
    "import scipy as sp\n",
    "import pandas as pd\n",
    "\n",
    "import warnings\n",
    "import tqdm\n",
    "\n",
    "#import pandas_datareader.data as web\n",
    "import datetime as dt\n",
    "\n",
    "import statsmodels.api as sm\n",
    "import linearmodels as lm\n",
    "import arch as am\n",
    "\n",
    "import matplotlib.pyplot as plt\n",
    "import seaborn as sns"
   ]
  },
  {
   "cell_type": "code",
   "execution_count": 3,
   "metadata": {},
   "outputs": [
    {
     "name": "stderr",
     "output_type": "stream",
     "text": [
      "C:\\ProgramData\\Anaconda3\\lib\\site-packages\\pandas_datareader\\compat\\__init__.py:7: FutureWarning: pandas.util.testing is deprecated. Use the functions in the public API at pandas.testing instead.\n",
      "  from pandas.util.testing import assert_frame_equal\n"
     ]
    }
   ],
   "source": [
    "import sys\n",
    "sys.path.append('../')\n",
    "import src\n",
    "\n",
    "sys.path.append('../../kungfu/')\n",
    "import kungfu as kf"
   ]
  },
  {
   "cell_type": "code",
   "execution_count": 4,
   "metadata": {
    "pycharm": {
     "is_executing": false
    }
   },
   "outputs": [],
   "source": [
    "pd.set_option('display.float_format', lambda x: '%.4f' % x) #sets decimals to be displayed"
   ]
  },
  {
   "cell_type": "code",
   "execution_count": 5,
   "metadata": {
    "pycharm": {
     "is_executing": false
    }
   },
   "outputs": [],
   "source": [
    "sns.set()\n",
    "sns.set(rc={'figure.figsize': (17, 6)})"
   ]
  },
  {
   "cell_type": "code",
   "execution_count": 6,
   "metadata": {
    "pycharm": {
     "is_executing": false
    }
   },
   "outputs": [],
   "source": [
    "%matplotlib inline"
   ]
  },
  {
   "cell_type": "markdown",
   "metadata": {},
   "source": [
    "## Data"
   ]
  },
  {
   "cell_type": "markdown",
   "metadata": {},
   "source": [
    "Data is imported from [Kenneth French's data library](http://mba.tuck.dartmouth.edu/pages/faculty/ken.french/data_library.html) and [FRED](https://fred.stlouisfed.org/series/). Currently, this workbook uses 49 industry portfolios and the FF3 factors. Additionally, NBER recession indicators complement the data."
   ]
  },
  {
   "cell_type": "code",
   "execution_count": 7,
   "metadata": {
    "pycharm": {
     "is_executing": false
    }
   },
   "outputs": [],
   "source": [
    "#sample_start = dt.datetime(1962,1,1)\n",
    "#sample_start = dt.datetime(1945,1,1)\n",
    "sample_start = dt.datetime(1900,1,1)\n",
    "\n",
    "#sample_end = dt.datetime(2019,12,31)\n",
    "sample_end = dt.datetime.today()"
   ]
  },
  {
   "cell_type": "markdown",
   "metadata": {},
   "source": [
    "### Market Index"
   ]
  },
  {
   "cell_type": "code",
   "execution_count": 8,
   "metadata": {},
   "outputs": [
    {
     "name": "stdout",
     "output_type": "stream",
     "text": [
      "downloaded FF Market data: 2020-04-10 16:08:44.202370\n"
     ]
    }
   ],
   "source": [
    "factors_daily = kf.dataloader.download_factor_data('D')/100\n",
    "factors_monthly = kf.dataloader.download_factor_data('M')/100\n",
    "\n",
    "factors_daily = factors_daily.loc[(factors_daily.index >= sample_start) & (factors_daily.index <= sample_end)]\n",
    "factors_monthly = factors_monthly.loc[(factors_monthly.index >= sample_start) & (factors_monthly.index <= sample_end)]\n",
    "\n",
    "market_daily = factors_daily['Mkt-RF'].set_obstype('return')\n",
    "market_monthly = factors_monthly['Mkt-RF'].set_obstype('return')\n",
    "\n",
    "market_daily.to_pickle(path='../data/external/market_daily.pkl')\n",
    "market_monthly.to_pickle(path='../data/external/market_monthly.pkl')\n",
    "\n",
    "print('downloaded FF Market data: ' + str(dt.datetime.now()))"
   ]
  },
  {
   "cell_type": "markdown",
   "metadata": {},
   "source": [
    "### Aggregation"
   ]
  },
  {
   "cell_type": "code",
   "execution_count": 9,
   "metadata": {},
   "outputs": [],
   "source": [
    "fdf_market = kf.FinancialDataFrame([])\n",
    "month_groups = market_daily.groupby([(market_daily.index.year),(market_daily.index.month)])\n",
    "fdf_market['obs_count'] = month_groups.count()\n",
    "\n",
    "for group in month_groups:\n",
    "    fdf_market.at[group[0],'real_volatility'] = group[1].calculate_realised_volatility(252)\n",
    "    fdf_market.at[group[0],'tot_return'] = group[1].calculate_total_return()"
   ]
  },
  {
   "cell_type": "code",
   "execution_count": 11,
   "metadata": {},
   "outputs": [],
   "source": [
    "market_returns = market_monthly.copy()\n",
    "market_returns.name = 'monthly_return'\n",
    "market_returns.index = pd.MultiIndex.from_arrays([market_returns.index.year, market_returns.index.month])\n",
    "fdf_market = fdf_market.join(market_returns, how='left')"
   ]
  },
  {
   "cell_type": "code",
   "execution_count": 12,
   "metadata": {},
   "outputs": [
    {
     "data": {
      "text/html": [
       "<div>\n",
       "<style scoped>\n",
       "    .dataframe tbody tr th:only-of-type {\n",
       "        vertical-align: middle;\n",
       "    }\n",
       "\n",
       "    .dataframe tbody tr th {\n",
       "        vertical-align: top;\n",
       "    }\n",
       "\n",
       "    .dataframe thead th {\n",
       "        text-align: right;\n",
       "    }\n",
       "</style>\n",
       "<table border=\"1\" class=\"dataframe\">\n",
       "  <thead>\n",
       "    <tr style=\"text-align: right;\">\n",
       "      <th></th>\n",
       "      <th></th>\n",
       "      <th>obs_count</th>\n",
       "      <th>real_volatility</th>\n",
       "      <th>tot_return</th>\n",
       "      <th>monthly_return</th>\n",
       "    </tr>\n",
       "    <tr>\n",
       "      <th>Date</th>\n",
       "      <th>Date</th>\n",
       "      <th></th>\n",
       "      <th></th>\n",
       "      <th></th>\n",
       "      <th></th>\n",
       "    </tr>\n",
       "  </thead>\n",
       "  <tbody>\n",
       "    <tr>\n",
       "      <th rowspan=\"5\" valign=\"top\">1926</th>\n",
       "      <th>7</th>\n",
       "      <td>25</td>\n",
       "      <td>0.0727</td>\n",
       "      <td>0.0288</td>\n",
       "      <td>0.0296</td>\n",
       "    </tr>\n",
       "    <tr>\n",
       "      <th>8</th>\n",
       "      <td>26</td>\n",
       "      <td>0.0937</td>\n",
       "      <td>0.0267</td>\n",
       "      <td>0.0264</td>\n",
       "    </tr>\n",
       "    <tr>\n",
       "      <th>9</th>\n",
       "      <td>24</td>\n",
       "      <td>0.0771</td>\n",
       "      <td>0.0037</td>\n",
       "      <td>0.0036</td>\n",
       "    </tr>\n",
       "    <tr>\n",
       "      <th>10</th>\n",
       "      <td>25</td>\n",
       "      <td>0.1321</td>\n",
       "      <td>-0.0330</td>\n",
       "      <td>-0.0324</td>\n",
       "    </tr>\n",
       "    <tr>\n",
       "      <th>11</th>\n",
       "      <td>24</td>\n",
       "      <td>0.0617</td>\n",
       "      <td>0.0258</td>\n",
       "      <td>0.0253</td>\n",
       "    </tr>\n",
       "    <tr>\n",
       "      <th>...</th>\n",
       "      <th>...</th>\n",
       "      <td>...</td>\n",
       "      <td>...</td>\n",
       "      <td>...</td>\n",
       "      <td>...</td>\n",
       "    </tr>\n",
       "    <tr>\n",
       "      <th rowspan=\"3\" valign=\"top\">2019</th>\n",
       "      <th>10</th>\n",
       "      <td>23</td>\n",
       "      <td>0.1320</td>\n",
       "      <td>0.0206</td>\n",
       "      <td>0.0206</td>\n",
       "    </tr>\n",
       "    <tr>\n",
       "      <th>11</th>\n",
       "      <td>20</td>\n",
       "      <td>0.0676</td>\n",
       "      <td>0.0388</td>\n",
       "      <td>0.0387</td>\n",
       "    </tr>\n",
       "    <tr>\n",
       "      <th>12</th>\n",
       "      <td>21</td>\n",
       "      <td>0.0778</td>\n",
       "      <td>0.0278</td>\n",
       "      <td>0.0277</td>\n",
       "    </tr>\n",
       "    <tr>\n",
       "      <th rowspan=\"2\" valign=\"top\">2020</th>\n",
       "      <th>1</th>\n",
       "      <td>21</td>\n",
       "      <td>0.1160</td>\n",
       "      <td>-0.0010</td>\n",
       "      <td>-0.0011</td>\n",
       "    </tr>\n",
       "    <tr>\n",
       "      <th>2</th>\n",
       "      <td>19</td>\n",
       "      <td>0.2497</td>\n",
       "      <td>-0.0811</td>\n",
       "      <td>-0.0813</td>\n",
       "    </tr>\n",
       "  </tbody>\n",
       "</table>\n",
       "<p>1124 rows × 4 columns</p>\n",
       "</div>"
      ],
      "text/plain": [
       "           obs_count  real_volatility  tot_return  monthly_return\n",
       "Date Date                                                        \n",
       "1926 7            25           0.0727      0.0288          0.0296\n",
       "     8            26           0.0937      0.0267          0.0264\n",
       "     9            24           0.0771      0.0037          0.0036\n",
       "     10           25           0.1321     -0.0330         -0.0324\n",
       "     11           24           0.0617      0.0258          0.0253\n",
       "...              ...              ...         ...             ...\n",
       "2019 10           23           0.1320      0.0206          0.0206\n",
       "     11           20           0.0676      0.0388          0.0387\n",
       "     12           21           0.0778      0.0278          0.0277\n",
       "2020 1            21           0.1160     -0.0010         -0.0011\n",
       "     2            19           0.2497     -0.0811         -0.0813\n",
       "\n",
       "[1124 rows x 4 columns]"
      ]
     },
     "execution_count": 12,
     "metadata": {},
     "output_type": "execute_result"
    }
   ],
   "source": [
    "fdf_market"
   ]
  },
  {
   "cell_type": "markdown",
   "metadata": {},
   "source": []
  }
 ],
 "metadata": {
  "kernelspec": {
   "display_name": "Python 3",
   "language": "python",
   "name": "python3"
  },
  "language_info": {
   "codemirror_mode": {
    "name": "ipython",
    "version": 3
   },
   "file_extension": ".py",
   "mimetype": "text/x-python",
   "name": "python",
   "nbconvert_exporter": "python",
   "pygments_lexer": "ipython3",
   "version": "3.7.0"
  }
 },
 "nbformat": 4,
 "nbformat_minor": 2
}
