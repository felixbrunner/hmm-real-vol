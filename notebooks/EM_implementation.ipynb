{
 "cells": [
  {
   "cell_type": "code",
   "execution_count": 1,
   "metadata": {},
   "outputs": [],
   "source": [
    "%load_ext autoreload\n",
    "%autoreload 2"
   ]
  },
  {
   "cell_type": "code",
   "execution_count": 2,
   "metadata": {},
   "outputs": [],
   "source": [
    "import numpy as np\n",
    "import scipy as sp\n",
    "import pandas as pd\n",
    "import matplotlib.pyplot as plt\n",
    "import seaborn as sns\n",
    "\n",
    "from sklearn.metrics import roc_auc_score, roc_curve"
   ]
  },
  {
   "cell_type": "markdown",
   "metadata": {},
   "source": [
    "## Load data"
   ]
  },
  {
   "cell_type": "code",
   "execution_count": 3,
   "metadata": {},
   "outputs": [],
   "source": [
    "df_predictors = pd.read_pickle('../data/external/df_predictors.pkl')\n",
    "s_dp = df_predictors.dp.asfreq('M')\n",
    "s_ret = df_predictors['Index'].pct_change().asfreq('M')"
   ]
  },
  {
   "cell_type": "code",
   "execution_count": 4,
   "metadata": {},
   "outputs": [],
   "source": [
    "div_yield = s_dp.diff()[s_dp.index.year >= 1980]\n",
    "returns = s_ret[s_ret.index.year >= 1980]"
   ]
  },
  {
   "cell_type": "code",
   "execution_count": 5,
   "metadata": {},
   "outputs": [],
   "source": [
    "series = returns"
   ]
  },
  {
   "cell_type": "markdown",
   "metadata": {},
   "source": [
    "## Class HMM"
   ]
  },
  {
   "cell_type": "code",
   "execution_count": 59,
   "metadata": {},
   "outputs": [],
   "source": [
    "class HMM:\n",
    "    \n",
    "    def __init__(self, emission_models=(), transition_matrix=None, start_probas=None):\n",
    "        '''WIP, OK'''\n",
    "        self.emission_models = emission_models\n",
    "        self.transition_matrix = transition_matrix\n",
    "        self.start_probas = start_probas\n",
    "        \n",
    "        self.k = None\n",
    "        \n",
    "    def _check(self):\n",
    "        '''WIP'''\n",
    "        assert len(self.emissions) == self.transistion_matrix.shape[0] == self.transistion_matrix.shape[0] == len(self.start_probas), 'ERROR'\n",
    "    \n",
    "    @property\n",
    "    def steady_state(self):\n",
    "        '''FIX'''\n",
    "        k = self.transition_matrix.shape[0]\n",
    "        steady_state = np.full(k, 1/k).reshape(1, -1) @ self.transition_matrix\n",
    "        return steady_state\n",
    "        \n",
    "    def _initialise_baum_welch(self, Y):\n",
    "        '''FIX'''\n",
    "        if self.start_probas is None:\n",
    "            self.start_probas = self.steady_state\n",
    "        \n",
    "        A = np.array(self.transition_matrix)\n",
    "        models = self.emission_models\n",
    "        B = self._evaluate_emission_models(Y, models)\n",
    "        pi = np.array(self.start_probas).reshape(1, -1)\n",
    "        return A, B, pi, models\n",
    "    \n",
    "    def _evaluate_emission_models(self, Y, emission_models):\n",
    "        '''OK'''\n",
    "        B = np.concatenate([model.pdf(Y).reshape(-1, 1) for model in emission_models], axis=1)\n",
    "        return B\n",
    "        \n",
    "    def _forward_pass(self, A, B, pi):\n",
    "        '''OK'''\n",
    "        # initialise forward pass with first observation\n",
    "        alpha_0 = pi * B[0]\n",
    "        c_0 = 1/alpha_0.sum()\n",
    "        \n",
    "        # save values & scaling factor\n",
    "        Alpha = alpha_0*c_0\n",
    "        C = [c_0]\n",
    "        \n",
    "        # iterate\n",
    "        for b_t in B[1:]:\n",
    "            # calculate\n",
    "            alpha_t = (b_t * Alpha[-1] @ A).reshape(1, -1)\n",
    "            c_t = 1/alpha_t.sum()\n",
    "            \n",
    "            # save\n",
    "            Alpha = np.concatenate((Alpha, alpha_t*c_t), axis=0)\n",
    "            C += [c_t]\n",
    "            \n",
    "        C = np.array(C).reshape(-1, 1)\n",
    "        return Alpha, C\n",
    "            \n",
    "    def _backward_pass(self, A, B, pi, C):\n",
    "        '''OK'''\n",
    "        # initialise backward pass as one\n",
    "        beta_T = np.ones(pi.shape)\n",
    "        \n",
    "        # save values & scaling factor\n",
    "        Beta = beta_T*C[-1]\n",
    "        \n",
    "        # iterate\n",
    "        for b_t, c_t in zip(B[:0:-1],C[:-1]):\n",
    "            # calculate\n",
    "            beta_t = (b_t * Beta[0] @ A.T).reshape(1, -1)\n",
    "            \n",
    "            # save\n",
    "            Beta = np.concatenate((beta_t*c_t, Beta), axis=0)\n",
    "            \n",
    "        return Beta\n",
    "    \n",
    "    def _emission_odds(self, Alpha, Beta):\n",
    "        '''OK'''\n",
    "        total = Alpha * Beta\n",
    "        Gamma = total/total.sum(axis=1).reshape(-1, 1)\n",
    "        return Gamma\n",
    "    \n",
    "    def _transition_odds(self, A, B, Alpha, Beta):\n",
    "        '''OK'''\n",
    "        Alpha_block = np.kron(Alpha[:-1], np.ones(A.shape[0]))\n",
    "        B_Beta_block = np.kron(np.ones(A.shape[0]), B[1:]*Beta[1:])\n",
    "        total = Alpha_block * B_Beta_block * A.reshape(1, -1)\n",
    "        Xi = total/total.sum(axis=1).reshape(-1, 1)\n",
    "        return Xi\n",
    "        \n",
    "    def _do_e_step(self, Y, A, B, pi):\n",
    "        '''OK'''\n",
    "        Alpha, C = self._forward_pass(A, B, pi)\n",
    "        Beta = self._backward_pass(A, B, pi, C)\n",
    "        Gamma = self._emission_odds(Alpha, Beta)\n",
    "        Xi = self._transition_odds(A, B, Alpha, Beta)\n",
    "        return Gamma, Xi\n",
    "    \n",
    "    def _update_transition_matrix(self, Gamma, Xi):\n",
    "        '''OK'''\n",
    "        numerator = Xi.sum(axis=0)\n",
    "        denominator = np.kron(Gamma[:-1], np.ones(Gamma.shape[1])).sum(axis=0)\n",
    "        A_ = (numerator/denominator).reshape(Gamma.shape[1], Gamma.shape[1])\n",
    "        return A_\n",
    "    \n",
    "    def _update_parameters(self, Y, emission_models, Gamma):\n",
    "        '''OK'''\n",
    "        models_ = []\n",
    "        for model, weights in zip(emission_models, Gamma.T):\n",
    "            model.fit(Y, weights)\n",
    "            models_ += [model]\n",
    "        return tuple(models_)\n",
    "    \n",
    "    def _update_initial_state(self, Gamma):\n",
    "        '''OK'''\n",
    "        return Gamma[0].reshape(1, -1)\n",
    "    \n",
    "    def _do_m_step(self, Y, models, Gamma, Xi):\n",
    "        '''OK'''\n",
    "        A_ = self._update_transition_matrix(Gamma, Xi)\n",
    "        models_ = self._update_parameters(Y, models, Gamma)\n",
    "        pi_ = self._update_initial_state(Gamma)\n",
    "        return A_, models_, pi_\n",
    "    \n",
    "    def _score(self, Y, emission_models, Gamma):\n",
    "        '''OK'''\n",
    "        B = self._evaluate_emission_models(Y, emission_models)\n",
    "        score = (B * Gamma).sum()    \n",
    "        return score\n",
    "    \n",
    "    def _update_attributes(self, A_, models_, pi_, Gamma):\n",
    "        '''OK'''\n",
    "        self.transition_matrix = A_\n",
    "        self.emission_models = models_\n",
    "        self.start_probas = pi_\n",
    "        self.smoothened_probabilities = Gamma\n",
    "        \n",
    "    \n",
    "    def _estimate_baum_welch(self, Y, max_iter=100, threshold=1e-10):\n",
    "        '''WIP'''\n",
    "        \n",
    "        #self._check()\n",
    "        \n",
    "        A_, B_, pi_, models_ = self._initialise_baum_welch(Y)\n",
    "        iteration = 0\n",
    "        scores = {iteration: self._score(Y, models_, pi_)}\n",
    "        while iteration < max_iter:\n",
    "            iteration += 1\n",
    "            Gamma, Xi = self._do_e_step(Y, A_, B_, pi_)\n",
    "            A_, models_, pi_ = self._do_m_step(Y, models_, Gamma, Xi)\n",
    "            scores[iteration] = self._score(Y, models_, Gamma)\n",
    "            \n",
    "            if abs(scores[iteration]-scores[iteration-1]) < threshold:\n",
    "                break\n",
    "                \n",
    "            \n",
    "            \n",
    "        self._update_attributes(A_, models_, pi_, Gamma)\n",
    "        \n",
    "        return self, scores\n",
    "            \n",
    "    def fit(self, Y, method='baumwelch', **kwargs):\n",
    "        '''FIX'''\n",
    "        if method == 'baumwelch':\n",
    "            self = self._estimate_baum_welch(self, Y, **kwargs)\n",
    "        return self"
   ]
  },
  {
   "cell_type": "code",
   "execution_count": 60,
   "metadata": {},
   "outputs": [],
   "source": [
    "class NormalModel:\n",
    "    def __init__(self, mu=0, sigma2=1):\n",
    "        self.mu = mu\n",
    "        self.sigma2 = sigma2\n",
    "        \n",
    "    def fit(self, Y, weights=None):\n",
    "        '''fits the model parameters to an observation sequence, weights are optional'''\n",
    "        # prepare\n",
    "        Y = np.array(Y).reshape(-1, 1)\n",
    "        if weights is None:\n",
    "            weights = np.ones(Y.shape)\n",
    "        else:\n",
    "            weights = np.array(weights).reshape(-1, 1)\n",
    "        \n",
    "        # estimate mean\n",
    "        mean = (Y*weights).sum(axis=0)/weights.sum(axis=0)\n",
    "        \n",
    "        # estimate variance\n",
    "        errors = (Y-mean)**2\n",
    "        variance = (errors*weights).sum(axis=0)/weights.sum(axis=0)\n",
    "        \n",
    "        # update\n",
    "        self.mu = mean\n",
    "        self.sigma2 = variance\n",
    "        \n",
    "    def pdf(self, Y):\n",
    "        '''returns the likelihood of each observation in an observation sequence'''\n",
    "        pdf = 1/(self.sigma2**0.5 * np.sqrt(2*np.pi)) * np.exp(-0.5*(Y-self.mu)**2/self.sigma2)\n",
    "        return pdf\n",
    "    \n",
    "    def score(self, Y):\n",
    "        '''returns the likelihood of an observation sequence'''\n",
    "        score = self.pdf(Y).sum()\n",
    "        return score"
   ]
  },
  {
   "cell_type": "code",
   "execution_count": 79,
   "metadata": {},
   "outputs": [],
   "source": [
    "Y = np.random.randn(1000)\n",
    "#Y"
   ]
  },
  {
   "cell_type": "code",
   "execution_count": 80,
   "metadata": {},
   "outputs": [
    {
     "data": {
      "text/plain": [
       "285.51164895446664"
      ]
     },
     "execution_count": 80,
     "metadata": {},
     "output_type": "execute_result"
    }
   ],
   "source": [
    "nm = NormalModel()\n",
    "nm.fit(Y)\n",
    "nm.score(Y)\n",
    "#nm.pdf(Y)"
   ]
  },
  {
   "cell_type": "code",
   "execution_count": 81,
   "metadata": {},
   "outputs": [
    {
     "data": {
      "text/plain": [
       "(<__main__.HMM at 0x7f14897f4390>,\n",
       " {0: 239.1659209428393,\n",
       "  1: 287.8983672387337,\n",
       "  2: 287.3918221329287,\n",
       "  3: 286.6210280250658,\n",
       "  4: 286.14374240403845,\n",
       "  5: 285.8821457570864,\n",
       "  6: 285.73742186922607,\n",
       "  7: 285.65432875236763,\n",
       "  8: 285.60468030956326,\n",
       "  9: 285.5739218294391,\n",
       "  10: 285.55426114549624,\n",
       "  11: 285.54135514813356,\n",
       "  12: 285.53268892881135,\n",
       "  13: 285.52675558553426,\n",
       "  14: 285.5226247231616,\n",
       "  15: 285.51970663624513,\n",
       "  16: 285.5176188654506,\n",
       "  17: 285.5161082978598,\n",
       "  18: 285.5150044102626,\n",
       "  19: 285.51419049558115,\n",
       "  20: 285.51358555320144,\n",
       "  21: 285.51313265796614,\n",
       "  22: 285.51279135308914,\n",
       "  23: 285.5125325930557,\n",
       "  24: 285.51233533211104,\n",
       "  25: 285.51218419226615,\n",
       "  26: 285.5120678500401,\n",
       "  27: 285.5119779081855,\n",
       "  28: 285.5119080986759,\n",
       "  29: 285.5118537144929,\n",
       "  30: 285.51181120106423,\n",
       "  31: 285.51177786016706,\n",
       "  32: 285.51175163375035,\n",
       "  33: 285.5117309450203,\n",
       "  34: 285.5117145808685,\n",
       "  35: 285.511701604364,\n",
       "  36: 285.51169128925653,\n",
       "  37: 285.5116830706951,\n",
       "  38: 285.51167650796594,\n",
       "  39: 285.51167125618815,\n",
       "  40: 285.5116670447196,\n",
       "  41: 285.5116636606169,\n",
       "  42: 285.51166093591803,\n",
       "  43: 285.5116587378278,\n",
       "  44: 285.5116569611208,\n",
       "  45: 285.5116555222395,\n",
       "  46: 285.51165435469744,\n",
       "  47: 285.51165340548874,\n",
       "  48: 285.5116526322753,\n",
       "  49: 285.5116520011787,\n",
       "  50: 285.51165148504225,\n",
       "  51: 285.5116510620602,\n",
       "  52: 285.51165071469404,\n",
       "  53: 285.5116504288146,\n",
       "  54: 285.5116501930207,\n",
       "  55: 285.511649998098,\n",
       "  56: 285.51164983658737,\n",
       "  57: 285.5116497024412,\n",
       "  58: 285.511649590749,\n",
       "  59: 285.5116494975162,\n",
       "  60: 285.5116494194892,\n",
       "  61: 285.5116493540128,\n",
       "  62: 285.511649298917,\n",
       "  63: 285.5116492524254,\n",
       "  64: 285.5116492130811,\n",
       "  65: 285.5116491796872,\n",
       "  66: 285.51164915125884,\n",
       "  67: 285.5116491269839,\n",
       "  68: 285.5116491061917,\n",
       "  69: 285.51164908832703,\n",
       "  70: 285.51164907292963,\n",
       "  71: 285.51164905961696,\n",
       "  72: 285.5116490480706,\n",
       "  73: 285.5116490380248,\n",
       "  74: 285.51164902925746,\n",
       "  75: 285.5116490215822,\n",
       "  76: 285.5116490148425,\n",
       "  77: 285.51164900890683,\n",
       "  78: 285.5116490036641,\n",
       "  79: 285.5116489990198,\n",
       "  80: 285.51164899489453,\n",
       "  81: 285.51164899122034,\n",
       "  82: 285.51164898793934,\n",
       "  83: 285.5116489850021,\n",
       "  84: 285.51164898236635,\n",
       "  85: 285.5116489799956,\n",
       "  86: 285.5116489778584,\n",
       "  87: 285.51164897592776,\n",
       "  88: 285.5116489741803,\n",
       "  89: 285.51164897259537,\n",
       "  90: 285.51164897115535,\n",
       "  91: 285.5116489698448,\n",
       "  92: 285.5116489686501,\n",
       "  93: 285.5116489675593,\n",
       "  94: 285.511648966562,\n",
       "  95: 285.5116489656489,\n",
       "  96: 285.5116489648118,\n",
       "  97: 285.51164896404345,\n",
       "  98: 285.5116489633374,\n",
       "  99: 285.511648962688,\n",
       "  100: 285.51164896208996,\n",
       "  101: 285.51164896153887,\n",
       "  102: 285.5116489610305,\n",
       "  103: 285.51164896056116,\n",
       "  104: 285.51164896012756,\n",
       "  105: 285.5116489597267,\n",
       "  106: 285.51164895935585,\n",
       "  107: 285.5116489590125,\n",
       "  108: 285.5116489586945,\n",
       "  109: 285.51164895839975,\n",
       "  110: 285.51164895812644,\n",
       "  111: 285.5116489578729,\n",
       "  112: 285.5116489576377,\n",
       "  113: 285.51164895741925,\n",
       "  114: 285.51164895721627,\n",
       "  115: 285.51164895702783,\n",
       "  116: 285.51164895685264,\n",
       "  117: 285.5116489566897,\n",
       "  118: 285.51164895653824,\n",
       "  119: 285.5116489563974,\n",
       "  120: 285.5116489562662,\n",
       "  121: 285.51164895614414,\n",
       "  122: 285.5116489560306,\n",
       "  123: 285.51164895592484,\n",
       "  124: 285.5116489558264})"
      ]
     },
     "execution_count": 81,
     "metadata": {},
     "output_type": "execute_result"
    }
   ],
   "source": [
    "test = HMM()\n",
    "test.state_probas = np.array([[0, 1]])\n",
    "test.transition_matrix = np.array([[0.5, 0.5],[0.2, 0.8]])\n",
    "test.emission_models = (NormalModel(mu=0, sigma2=1), NormalModel(mu=1, sigma2=1))\n",
    "\n",
    "#A,B,pi,models = test._initialise_baum_welch(Y)\n",
    "\n",
    "#print(test._score(Y, models, Gamma))\n",
    "\n",
    "# Alpha_0, C = test._forward_pass(A,B,pi)\n",
    "# Beta_0 = test._backward_pass(A,B,pi,C)\n",
    "# Gamma_0 = test._emission_odds(Alpha_0, Beta_0)\n",
    "# Xi_0 = test._transition_odds(A, B, Alpha_0, Beta_0)\n",
    "\n",
    "#Gamma, Xi = test._do_e_step(Y, A, B, pi)\n",
    "\n",
    "#pi_0 = test._update_initial_state(Gamma)\n",
    "#A_0 = test._update_transition_matrix(Gamma, Xi)\n",
    "#models_0 = test._update_parameters(Y, models, Gamma)\n",
    "\n",
    "#A_, models_, pi_ = test._do_m_step(Y, models, Gamma, Xi)\n",
    "\n",
    "#score = test._score(Y, models_, Gamma)\n",
    "test._estimate_baum_welch(Y, max_iter=1000)"
   ]
  },
  {
   "cell_type": "code",
   "execution_count": 82,
   "metadata": {},
   "outputs": [
    {
     "data": {
      "text/plain": [
       "array([[9.99992033e-01, 7.96708481e-06],\n",
       "       [9.99979092e-01, 2.09082315e-05]])"
      ]
     },
     "execution_count": 82,
     "metadata": {},
     "output_type": "execute_result"
    }
   ],
   "source": [
    "test.transition_matrix"
   ]
  },
  {
   "cell_type": "code",
   "execution_count": 84,
   "metadata": {},
   "outputs": [
    {
     "data": {
      "text/plain": [
       "[(array([-0.04892599]), array([0.980498])),\n",
       " (array([-0.04887648]), array([0.98148714]))]"
      ]
     },
     "execution_count": 84,
     "metadata": {},
     "output_type": "execute_result"
    }
   ],
   "source": [
    "[(m.mu,m.sigma2) for m in test.emission_models]"
   ]
  },
  {
   "cell_type": "code",
   "execution_count": null,
   "metadata": {},
   "outputs": [],
   "source": []
  },
  {
   "cell_type": "code",
   "execution_count": null,
   "metadata": {},
   "outputs": [],
   "source": [
    "test = HMM()\n",
    "test.state_probas = np.array([[0, 1]])\n",
    "test.transition_matrix = np.array([[0.5, 0.5],[0.2, 0.8]])\n",
    "test.emission_models = (sp.stats.norm(loc=0, scale=1), sp.stats.norm(loc=1, scale=1))\n",
    "\n",
    "A,B,pi = test._initialise_baum_welch(Y)\n",
    "\n",
    "# Alpha_0, C = test._forward_pass(A,B,pi)\n",
    "# Beta_0 = test._backward_pass(A,B,pi,C)\n",
    "# Gamma_0 = test._emission_odds(Alpha_0, Beta_0)\n",
    "# Xi_0 = test._transition_odds(A, B, Alpha_0, Beta_0)\n",
    "\n",
    "Gamma, Xi = test._E_step(Y, A, B, pi)\n",
    "\n",
    "test._update_initial_state(Gamma)\n",
    "test._update_transition_matrix(Gamma, Xi)\n",
    "#test._update_parameters(Y, Gamma)\n",
    "\n",
    "A_, models_, pi_ = test._M_step(Y, Gamma, Xi)"
   ]
  },
  {
   "cell_type": "code",
   "execution_count": null,
   "metadata": {},
   "outputs": [],
   "source": [
    "A_"
   ]
  },
  {
   "cell_type": "code",
   "execution_count": null,
   "metadata": {},
   "outputs": [],
   "source": [
    "np.kron(np.ones(2), Alpha_0)"
   ]
  },
  {
   "cell_type": "code",
   "execution_count": null,
   "metadata": {},
   "outputs": [],
   "source": [
    "np.kron(Alpha_0, np.ones(2))"
   ]
  },
  {
   "cell_type": "code",
   "execution_count": null,
   "metadata": {},
   "outputs": [],
   "source": [
    "Gamma"
   ]
  },
  {
   "cell_type": "code",
   "execution_count": null,
   "metadata": {},
   "outputs": [],
   "source": []
  },
  {
   "cell_type": "code",
   "execution_count": null,
   "metadata": {},
   "outputs": [],
   "source": [
    "Y = np.array(Y).reshape(-1, 1)\n",
    "weighted_Y = Y * Gamma\n",
    "means = weighted_Y.sum(axis=0)/Gamma.sum(axis=0)\n",
    "Y"
   ]
  },
  {
   "cell_type": "code",
   "execution_count": null,
   "metadata": {},
   "outputs": [],
   "source": [
    "means"
   ]
  },
  {
   "cell_type": "code",
   "execution_count": null,
   "metadata": {},
   "outputs": [],
   "source": [
    "np.kron(np.ones(Gamma.shape[1]),Y)-means"
   ]
  },
  {
   "cell_type": "code",
   "execution_count": null,
   "metadata": {},
   "outputs": [],
   "source": [
    "Gamma"
   ]
  },
  {
   "cell_type": "code",
   "execution_count": null,
   "metadata": {},
   "outputs": [],
   "source": [
    "np.kron(Gamma, np.ones((1,2)))"
   ]
  },
  {
   "cell_type": "code",
   "execution_count": null,
   "metadata": {},
   "outputs": [],
   "source": []
  }
 ],
 "metadata": {
  "kernelspec": {
   "display_name": "Python 3",
   "language": "python",
   "name": "python3"
  },
  "language_info": {
   "codemirror_mode": {
    "name": "ipython",
    "version": 3
   },
   "file_extension": ".py",
   "mimetype": "text/x-python",
   "name": "python",
   "nbconvert_exporter": "python",
   "pygments_lexer": "ipython3",
   "version": "3.6.9"
  }
 },
 "nbformat": 4,
 "nbformat_minor": 4
}
