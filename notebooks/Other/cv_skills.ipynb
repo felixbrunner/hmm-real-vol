{
 "cells": [
  {
   "cell_type": "code",
   "execution_count": 1,
   "metadata": {},
   "outputs": [],
   "source": [
    "import matplotlib.pyplot as plt\n",
    "import numpy as np\n",
    "import pandas as pd"
   ]
  },
  {
   "cell_type": "code",
   "execution_count": 40,
   "metadata": {},
   "outputs": [
    {
     "data": {
      "text/plain": [
       "<Figure size 432x288 with 0 Axes>"
      ]
     },
     "metadata": {},
     "output_type": "display_data"
    }
   ],
   "source": [
    "plt.style.use('Solarize_Light2')\n",
    "plt.rcParams[\"font.family\"] = 'monospace'\n",
    "plt.rcParams['font.monospace'] = ['DejaVu Sans Mono',\n",
    "                                  'Bitstream Vera Sans Mono',\n",
    "                                  'Computer Modern Typewriter',\n",
    "                                  'Andale Mono',\n",
    "                                  'Nimbus Mono L',\n",
    "                                  'Courier New',\n",
    "                                  'Courier',\n",
    "                                  'Fixed',\n",
    "                                  'Terminal',\n",
    "                                  'monospace']"
   ]
  },
  {
   "cell_type": "code",
   "execution_count": 7,
   "metadata": {},
   "outputs": [],
   "source": [
    "font = {'family' : 'monospace',\n",
    "        'weight' : 'bold',\n",
    "        'size'   : 7}\n",
    "\n",
    "plt.rc('font', **font)"
   ]
  },
  {
   "cell_type": "code",
   "execution_count": 20,
   "metadata": {},
   "outputs": [],
   "source": [
    "palette = ['#cb4b16','#dc322f']"
   ]
  },
  {
   "cell_type": "code",
   "execution_count": 76,
   "metadata": {},
   "outputs": [],
   "source": [
    "# monospace together with equal string length for identical label box\n",
    "languages =   {'         english': 8,\n",
    "               '          german': 10,\n",
    "               '      portuguese': 5,\n",
    "               '          french': 3}\n",
    "programming = {'          python': 8,\n",
    "               '          matlab': 7,\n",
    "               '             sql': 5,\n",
    "               '               R': 3,\n",
    "               '             vba': 3}\n",
    "hardskills =  {'           latex': 8,\n",
    "               '       ms office': 8,\n",
    "               '    econometrics': 7,\n",
    "               'machine learning': 7,\n",
    "               '    data science': 8,\n",
    "               '             git': 7}\n",
    "python =      {'          pandas': 8,\n",
    "               '      matplotlib': 7,\n",
    "               '         sklearn': 7,\n",
    "               '     statsmodels': 6}\n",
    "datascience = {'    python stack': 9,\n",
    "               '  data wrangling': 8,\n",
    "               '   visualisation': 7,\n",
    "               '     time series': 8,\n",
    "               '    clean coding': 7,\n",
    "               '    colaboration': 7}"
   ]
  },
  {
   "cell_type": "code",
   "execution_count": 150,
   "metadata": {},
   "outputs": [],
   "source": [
    "def inch(centimeters):\n",
    "    return centimeters/2.54\n",
    "\n",
    "def make_barplot(dictionary, **kwargs):\n",
    "    fig, ax = plt.subplots(1, 1, figsize=(inch(6.5), inch(4)))\n",
    "    series = pd.Series(dictionary).iloc[::-1]\n",
    "    series.plot.barh(color=palette[1])\n",
    "    ax.set_xticklabels([])\n",
    "    ax.set_xlim([0,10])\n",
    "    ax.tick_params(axis='both', which='major', labelsize=7)\n",
    "    \n",
    "    # To have rounded corners\n",
    "    from matplotlib.patches import FancyBboxPatch\n",
    "    new_patches = []\n",
    "    for patch in reversed(ax.patches):\n",
    "        bb = patch.get_bbox()\n",
    "        color=patch.get_facecolor()\n",
    "        p_bbox = FancyBboxPatch((bb.xmin, bb.ymin),\n",
    "                        abs(bb.width), abs(bb.height),\n",
    "                        boxstyle=\"round,pad=-0.0040,rounding_size=0.1\",\n",
    "                        ec=\"none\", fc=color,\n",
    "                        mutation_aspect=4\n",
    "                        )\n",
    "        patch.remove()\n",
    "        new_patches.append(p_bbox)\n",
    "    for patch in new_patches:\n",
    "        ax.add_patch(patch)\n",
    "    \n",
    "    # to set figsize according to content\n",
    "    set_size(inch(6.5),inch(len(dictionary)*0.6+0.6),ax)\n",
    "    plt.tight_layout()\n",
    "    \n",
    "    return fig\n",
    "\n",
    "def set_size(w,h, ax=None):\n",
    "    \"\"\" w, h: width, height in inches \"\"\"\n",
    "    if not ax: ax=plt.gca()\n",
    "    l = ax.figure.subplotpars.left\n",
    "    r = ax.figure.subplotpars.right\n",
    "    t = ax.figure.subplotpars.top\n",
    "    b = ax.figure.subplotpars.bottom\n",
    "    figw = float(w)/(r-l)\n",
    "    figh = float(h)/(t-b)\n",
    "    ax.figure.set_size_inches(figw, figh)"
   ]
  },
  {
   "cell_type": "code",
   "execution_count": 151,
   "metadata": {},
   "outputs": [
    {
     "data": {
      "image/png": "[encoded data removed]",
      "text/plain": [
       "<Figure size 237.744x112.635 with 1 Axes>"
      ]
     },
     "metadata": {},
     "output_type": "display_data"
    }
   ],
   "source": [
    "params = {'color': '#dc322f',\n",
    "          'fontname': 'Courier New'}\n",
    "\n",
    "fig = make_barplot(languages)#, **params)\n",
    "\n",
    "fig.savefig(\"languages.svg\")"
   ]
  },
  {
   "cell_type": "code",
   "execution_count": 152,
   "metadata": {},
   "outputs": [
    {
     "data": {
      "image/png": "[encoded data removed]",
      "text/plain": [
       "<Figure size 237.744x157.689 with 1 Axes>"
      ]
     },
     "metadata": {},
     "output_type": "display_data"
    }
   ],
   "source": [
    "params = {'color': '#dc322f',\n",
    "          'fontname': 'Courier New'}\n",
    "\n",
    "fig = make_barplot(hardskills)#, **params)\n",
    "\n",
    "fig.savefig(\"hardskills.svg\")"
   ]
  },
  {
   "cell_type": "code",
   "execution_count": 153,
   "metadata": {},
   "outputs": [
    {
     "data": {
      "image/png": "[encoded data removed]",
      "text/plain": [
       "<Figure size 237.744x112.635 with 1 Axes>"
      ]
     },
     "metadata": {},
     "output_type": "display_data"
    }
   ],
   "source": [
    "params = {'color': '#dc322f',\n",
    "          'fontname': 'Courier New'}\n",
    "\n",
    "fig = make_barplot(python)#, **params)\n",
    "\n",
    "fig.savefig(\"python.svg\")"
   ]
  },
  {
   "cell_type": "code",
   "execution_count": 154,
   "metadata": {},
   "outputs": [
    {
     "data": {
      "image/png": "[encoded data removed]",
      "text/plain": [
       "<Figure size 237.744x135.162 with 1 Axes>"
      ]
     },
     "metadata": {},
     "output_type": "display_data"
    }
   ],
   "source": [
    "params = {'color': '#dc322f',\n",
    "          'fontname': 'Courier New'}\n",
    "\n",
    "fig = make_barplot(programming)#, **params)\n",
    "\n",
    "fig.savefig(\"programming.svg\")"
   ]
  },
  {
   "cell_type": "code",
   "execution_count": 155,
   "metadata": {},
   "outputs": [
    {
     "data": {
      "image/png": "[encoded data removed]",
      "text/plain": [
       "<Figure size 237.744x157.689 with 1 Axes>"
      ]
     },
     "metadata": {},
     "output_type": "display_data"
    }
   ],
   "source": [
    "params = {'color': '#dc322f',\n",
    "          'fontname': 'Courier New'}\n",
    "\n",
    "fig = make_barplot(datascience)#, **params)\n",
    "\n",
    "fig.savefig(\"datascience.svg\")"
   ]
  },
  {
   "cell_type": "code",
   "execution_count": null,
   "metadata": {},
   "outputs": [],
   "source": []
  },
  {
   "cell_type": "code",
   "execution_count": null,
   "metadata": {},
   "outputs": [],
   "source": []
  }
 ],
 "metadata": {
  "kernelspec": {
   "display_name": "Python 3",
   "language": "python",
   "name": "python3"
  },
  "language_info": {
   "codemirror_mode": {
    "name": "ipython",
    "version": 3
   },
   "file_extension": ".py",
   "mimetype": "text/x-python",
   "name": "python",
   "nbconvert_exporter": "python",
   "pygments_lexer": "ipython3",
   "version": "3.6.9"
  }
 },
 "nbformat": 4,
 "nbformat_minor": 4
}
