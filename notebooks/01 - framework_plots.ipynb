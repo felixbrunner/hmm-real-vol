{
 "cells": [
  {
   "cell_type": "markdown",
   "metadata": {},
   "source": [
    "# 01 - Framework"
   ]
  },
  {
   "cell_type": "markdown",
   "metadata": {},
   "source": [
    "## Set up"
   ]
  },
  {
   "cell_type": "code",
   "execution_count": 1,
   "metadata": {
    "pycharm": {
     "is_executing": false
    }
   },
   "outputs": [],
   "source": [
    "%load_ext autoreload\n",
    "%autoreload 2"
   ]
  },
  {
   "cell_type": "code",
   "execution_count": 2,
   "metadata": {
    "pycharm": {
     "is_executing": false
    }
   },
   "outputs": [],
   "source": [
    "import numpy as np\n",
    "import scipy as sp\n",
    "import pandas as pd\n",
    "\n",
    "import warnings\n",
    "import tqdm\n",
    "\n",
    "import pandas_datareader.data as web\n",
    "import datetime as dt\n",
    "\n",
    "import statsmodels.api as sm\n",
    "import linearmodels as lm\n",
    "import arch as am\n",
    "\n",
    "import matplotlib.pyplot as plt\n",
    "import seaborn as sns\n",
    "\n",
    "import sys\n",
    "sys.path.append('../')\n",
    "import src\n",
    "\n",
    "sys.path.append('../../kungfu/')\n",
    "import kungfu as kf"
   ]
  },
  {
   "cell_type": "code",
   "execution_count": 3,
   "metadata": {
    "pycharm": {
     "is_executing": false
    }
   },
   "outputs": [],
   "source": [
    "pd.set_option('display.float_format', lambda x: '%.4f' % x) #sets decimals to be displayed"
   ]
  },
  {
   "cell_type": "code",
   "execution_count": 4,
   "metadata": {
    "pycharm": {
     "is_executing": false
    }
   },
   "outputs": [],
   "source": [
    "sns.set()\n",
    "sns.set(rc={'figure.figsize': (17, 6)})"
   ]
  },
  {
   "cell_type": "code",
   "execution_count": 5,
   "metadata": {
    "pycharm": {
     "is_executing": false
    }
   },
   "outputs": [],
   "source": [
    "%matplotlib inline"
   ]
  },
  {
   "cell_type": "code",
   "execution_count": 6,
   "metadata": {},
   "outputs": [],
   "source": [
    "#from src.models import NormalModel\n",
    "#from src.hmm import HMM\n",
    "import src"
   ]
  },
  {
   "cell_type": "markdown",
   "metadata": {},
   "source": [
    "## Load data"
   ]
  },
  {
   "cell_type": "code",
   "execution_count": 7,
   "metadata": {},
   "outputs": [],
   "source": [
    "df_predictors = pd.read_pickle('../data/external/df_predictors.pkl')\n",
    "s_dp = df_predictors.dp.asfreq('M')\n",
    "s_ret = df_predictors['Index'].pct_change().asfreq('M')"
   ]
  },
  {
   "cell_type": "code",
   "execution_count": 8,
   "metadata": {},
   "outputs": [],
   "source": [
    "s_daily = pd.read_pickle('../data/external/market_daily.pkl').set_obstype('return')\n",
    "s_monthly = pd.read_pickle('../data/external/market_monthly.pkl').set_obstype('return')"
   ]
  },
  {
   "cell_type": "code",
   "execution_count": 9,
   "metadata": {},
   "outputs": [],
   "source": [
    "series = s_dp.dropna()"
   ]
  },
  {
   "cell_type": "code",
   "execution_count": 10,
   "metadata": {},
   "outputs": [],
   "source": [
    "series = s_ret.dropna()"
   ]
  },
  {
   "cell_type": "code",
   "execution_count": 11,
   "metadata": {},
   "outputs": [],
   "source": [
    "series = s_daily"
   ]
  },
  {
   "cell_type": "code",
   "execution_count": 12,
   "metadata": {},
   "outputs": [],
   "source": [
    "series = s_monthly"
   ]
  },
  {
   "cell_type": "markdown",
   "metadata": {},
   "source": [
    "## Compare densities"
   ]
  },
  {
   "cell_type": "code",
   "execution_count": 13,
   "metadata": {},
   "outputs": [],
   "source": [
    "from sklearn.mixture import GaussianMixture"
   ]
  },
  {
   "cell_type": "code",
   "execution_count": 14,
   "metadata": {},
   "outputs": [],
   "source": [
    "def fit_gaussian_mixture_distribution(data, K=1):\n",
    "    \n",
    "    '''\n",
    "    MOVE\n",
    "    '''\n",
    "    \n",
    "    # Gaussian mixture model\n",
    "    gmm = GaussianMixture(n_components=K).fit(data.values.reshape(-1,1))\n",
    "    \n",
    "    # Obtain mixture distribution\n",
    "    mix = src.MixtureDistribution([])\n",
    "    for (m,s,p) in zip(gmm.means_.flatten(),gmm.covariances_.flatten()**0.5,gmm.weights_):\n",
    "        mix.add_component(distribution=src.NormalDistribution(mu=m, sigma=s), weight=p)\n",
    "        \n",
    "    return mix\n",
    "\n",
    "def fit_kernel_density_distrbution(data, method='scott'):\n",
    "    \n",
    "    '''\n",
    "    \n",
    "    '''\n",
    "    \n",
    "    # equal weights\n",
    "    w = 1/data.count()\n",
    "    \n",
    "    # scale parameter\n",
    "    if method == 'scott':\n",
    "        s = 3.5*data.std()/(data.count()**(1/3))\n",
    "    if method == 'silverman':\n",
    "        s = ((4*data.std()**5)/(3*data.count()))**(1/5)\n",
    "    \n",
    "    # create mixture\n",
    "    kde = src.MixtureDistribution(components=[(src.NormalDistribution(mu=m, sigma=s), w) for m in data])\n",
    "#     kde = GaussianMixtureDistribution([(m,s,w) for m in data])\n",
    "    return kde\n",
    "\n",
    "def fit_normal_distribution(data):\n",
    "    normal = src.NormalDistribution(mu=data.mean(), sigma=data.std())\n",
    "#     normal = sp.stats.norm(data.mean(),data.std())\n",
    "    return normal"
   ]
  },
  {
   "cell_type": "code",
   "execution_count": 15,
   "metadata": {},
   "outputs": [],
   "source": [
    "kde = fit_kernel_density_distrbution(series, method='silverman')\n",
    "mix2 = fit_gaussian_mixture_distribution(series, K=2)\n",
    "mix3 = fit_gaussian_mixture_distribution(series, K=3)\n",
    "mix4 = fit_gaussian_mixture_distribution(series, K=4)\n",
    "mix5 = fit_gaussian_mixture_distribution(series, K=5)\n",
    "mix8 = fit_gaussian_mixture_distribution(series, K=8)\n",
    "mix16 = fit_gaussian_mixture_distribution(series, K=16)\n",
    "mix32 = fit_gaussian_mixture_distribution(series, K=32)\n",
    "mix64 = fit_gaussian_mixture_distribution(series, K=64)\n",
    "normal = fit_normal_distribution(series)\n",
    "#normal2 = fit_gaussian_mixture_distribution(series, K=1)"
   ]
  },
  {
   "cell_type": "code",
   "execution_count": 16,
   "metadata": {},
   "outputs": [
    {
     "data": {
      "image/png": "[encoded data removed]",
      "text/plain": [
       "<Figure size 1152x576 with 2 Axes>"
      ]
     },
     "metadata": {
      "needs_background": "light"
     },
     "output_type": "display_data"
    }
   ],
   "source": [
    "# plot\n",
    "from src.plots import plot_mixture_components, plot_kernel_density, plot_pdf\n",
    "\n",
    "#mix = hmm.get_mixture_distribution(state='steady_state')\n",
    "\n",
    "fig, axes = plt.subplots(2, 1, figsize=[16,8], gridspec_kw={'height_ratios': [1, 2]})\n",
    "\n",
    "ax = axes[1]\n",
    "plot_pdf(mix2, ax=ax, label='Gaussian Mixture (K=2)')\n",
    "plot_mixture_components(mix2, ax=ax)\n",
    "plot_kernel_density(series, ax=ax, label='Gaussian KDE', color='grey')\n",
    "plot_pdf(normal, ax=ax, linestyle='--', color='k', label='Normal Kernel')\n",
    "ax.axhline(0, color='k', linewidth=1)\n",
    "ax.axvline(0, color='k', linewidth=1)\n",
    "ax.set_title('Panel B')\n",
    "ax.legend()\n",
    "\n",
    "lim = ax.get_xlim()\n",
    "ax = axes[0]\n",
    "ax.set_xlim(lim)\n",
    "ax.hist(series,bins=series.count()//5, color='teal', label='Data')\n",
    "ax.axvline(0, color='k', linewidth=1)\n",
    "ax.set_title('Panel A')\n",
    "ax.legend()\n",
    "\n",
    "# fig.savefig('../latex/figures/distribution_comparison.pdf', format='pdf', dpi=200, bbox_inches='tight')\n",
    "\n",
    "plt.show()"
   ]
  },
  {
   "cell_type": "code",
   "execution_count": 17,
   "metadata": {},
   "outputs": [],
   "source": [
    "def kolmogorov_smirnov_test(data, distribution):\n",
    "    test_statistic = sp.stats.kstest(data, distribution.cdf)[0]\n",
    "    return test_statistic\n",
    "\n",
    "def kuipers_test(data, distribution):\n",
    "    test_statistic = sp.stats.kstest(data, distribution.cdf, alternative='less')[0]\\\n",
    "                        + sp.stats.kstest(data, distribution.cdf, alternative='greater')[0]\n",
    "    return test_statistic\n",
    "\n",
    "def distribution_log_likelihood(data, distribution):\n",
    "    log_likelihood = np.log(distribution.pdf(data)).sum()\n",
    "    return log_likelihood"
   ]
  },
  {
   "cell_type": "code",
   "execution_count": 18,
   "metadata": {},
   "outputs": [],
   "source": [
    "def data_stats(data):\n",
    "    values = [data.mean(),\n",
    "              data.std(),\n",
    "              data.skew(),\n",
    "              data.kurt()-3,\n",
    "              np.nan,\n",
    "              np.nan,\n",
    "             np.nan]\n",
    "    return values\n",
    "\n",
    "def comparison_stats(data, distribution):\n",
    "    values = [distribution.mean(),\n",
    "              distribution.std(),\n",
    "              distribution.skew(),\n",
    "              distribution.exkurt(),\n",
    "              kolmogorov_smirnov_test(data, distribution),\n",
    "              kuipers_test(data, distribution),\n",
    "              distribution_log_likelihood(data, distribution)]\n",
    "    return values"
   ]
  },
  {
   "cell_type": "code",
   "execution_count": 19,
   "metadata": {},
   "outputs": [
    {
     "data": {
      "text/html": [
       "<div>\n",
       "<style scoped>\n",
       "    .dataframe tbody tr th:only-of-type {\n",
       "        vertical-align: middle;\n",
       "    }\n",
       "\n",
       "    .dataframe tbody tr th {\n",
       "        vertical-align: top;\n",
       "    }\n",
       "\n",
       "    .dataframe thead th {\n",
       "        text-align: right;\n",
       "    }\n",
       "</style>\n",
       "<table border=\"1\" class=\"dataframe\">\n",
       "  <thead>\n",
       "    <tr style=\"text-align: right;\">\n",
       "      <th></th>\n",
       "      <th>mean</th>\n",
       "      <th>std</th>\n",
       "      <th>skew</th>\n",
       "      <th>exkurt</th>\n",
       "      <th>Kolmogorov-Smirnov</th>\n",
       "      <th>Kuiper's test</th>\n",
       "      <th>log-likelihood</th>\n",
       "    </tr>\n",
       "  </thead>\n",
       "  <tbody>\n",
       "    <tr>\n",
       "      <th>Data</th>\n",
       "      <td>0.0066</td>\n",
       "      <td>0.0535</td>\n",
       "      <td>0.1687</td>\n",
       "      <td>4.6970</td>\n",
       "      <td></td>\n",
       "      <td></td>\n",
       "      <td></td>\n",
       "    </tr>\n",
       "    <tr>\n",
       "      <th>Gaussian KDE</th>\n",
       "      <td>0.0066</td>\n",
       "      <td>0.0552</td>\n",
       "      <td>0.1528</td>\n",
       "      <td>6.7196</td>\n",
       "      <td>0.0222</td>\n",
       "      <td>0.0439</td>\n",
       "      <td>1835.9893</td>\n",
       "    </tr>\n",
       "    <tr>\n",
       "      <th>Normal Distribution (K=1)</th>\n",
       "      <td>0.0066</td>\n",
       "      <td>0.0535</td>\n",
       "      <td></td>\n",
       "      <td></td>\n",
       "      <td>0.0655</td>\n",
       "      <td>0.1297</td>\n",
       "      <td>1703.3345</td>\n",
       "    </tr>\n",
       "    <tr>\n",
       "      <th>Gaussian Mixture (K=2)</th>\n",
       "      <td>0.0066</td>\n",
       "      <td>0.0535</td>\n",
       "      <td>-0.5308</td>\n",
       "      <td>3.1232</td>\n",
       "      <td>0.0190</td>\n",
       "      <td>0.0361</td>\n",
       "      <td>1811.0347</td>\n",
       "    </tr>\n",
       "    <tr>\n",
       "      <th>Gaussian Mixture (K=3)</th>\n",
       "      <td>0.0066</td>\n",
       "      <td>0.0535</td>\n",
       "      <td>-0.4436</td>\n",
       "      <td>3.7357</td>\n",
       "      <td>0.0185</td>\n",
       "      <td>0.0357</td>\n",
       "      <td>1818.1166</td>\n",
       "    </tr>\n",
       "    <tr>\n",
       "      <th>Gaussian Mixture (K=4)</th>\n",
       "      <td>0.0066</td>\n",
       "      <td>0.0535</td>\n",
       "      <td>0.0766</td>\n",
       "      <td>5.5494</td>\n",
       "      <td>0.0190</td>\n",
       "      <td>0.0352</td>\n",
       "      <td>1823.1242</td>\n",
       "    </tr>\n",
       "    <tr>\n",
       "      <th>Gaussian Mixture (K=5)</th>\n",
       "      <td>0.0066</td>\n",
       "      <td>0.0535</td>\n",
       "      <td>0.1468</td>\n",
       "      <td>6.5234</td>\n",
       "      <td>0.0140</td>\n",
       "      <td>0.0279</td>\n",
       "      <td>1822.7486</td>\n",
       "    </tr>\n",
       "    <tr>\n",
       "      <th>Gaussian Mixture (K=8)</th>\n",
       "      <td>0.0066</td>\n",
       "      <td>0.0535</td>\n",
       "      <td>0.1707</td>\n",
       "      <td>7.4090</td>\n",
       "      <td>0.0098</td>\n",
       "      <td>0.0195</td>\n",
       "      <td>1831.9185</td>\n",
       "    </tr>\n",
       "    <tr>\n",
       "      <th>Gaussian Mixture (K=16)</th>\n",
       "      <td>0.0066</td>\n",
       "      <td>0.0535</td>\n",
       "      <td>0.1689</td>\n",
       "      <td>7.6415</td>\n",
       "      <td>0.0071</td>\n",
       "      <td>0.0133</td>\n",
       "      <td>1845.7696</td>\n",
       "    </tr>\n",
       "    <tr>\n",
       "      <th>Gaussian Mixture (K=32)</th>\n",
       "      <td>0.0066</td>\n",
       "      <td>0.0535</td>\n",
       "      <td>0.1684</td>\n",
       "      <td>7.6523</td>\n",
       "      <td>0.0064</td>\n",
       "      <td>0.0120</td>\n",
       "      <td>1869.8871</td>\n",
       "    </tr>\n",
       "    <tr>\n",
       "      <th>Gaussian Mixture (K=64)</th>\n",
       "      <td>0.0066</td>\n",
       "      <td>0.0535</td>\n",
       "      <td>0.1684</td>\n",
       "      <td>7.6523</td>\n",
       "      <td>0.0059</td>\n",
       "      <td>0.0110</td>\n",
       "      <td>1906.3738</td>\n",
       "    </tr>\n",
       "  </tbody>\n",
       "</table>\n",
       "</div>"
      ],
      "text/plain": [
       "                            mean    std    skew exkurt Kolmogorov-Smirnov  \\\n",
       "Data                      0.0066 0.0535  0.1687 4.6970                      \n",
       "Gaussian KDE              0.0066 0.0552  0.1528 6.7196             0.0222   \n",
       "Normal Distribution (K=1) 0.0066 0.0535                            0.0655   \n",
       "Gaussian Mixture (K=2)    0.0066 0.0535 -0.5308 3.1232             0.0190   \n",
       "Gaussian Mixture (K=3)    0.0066 0.0535 -0.4436 3.7357             0.0185   \n",
       "Gaussian Mixture (K=4)    0.0066 0.0535  0.0766 5.5494             0.0190   \n",
       "Gaussian Mixture (K=5)    0.0066 0.0535  0.1468 6.5234             0.0140   \n",
       "Gaussian Mixture (K=8)    0.0066 0.0535  0.1707 7.4090             0.0098   \n",
       "Gaussian Mixture (K=16)   0.0066 0.0535  0.1689 7.6415             0.0071   \n",
       "Gaussian Mixture (K=32)   0.0066 0.0535  0.1684 7.6523             0.0064   \n",
       "Gaussian Mixture (K=64)   0.0066 0.0535  0.1684 7.6523             0.0059   \n",
       "\n",
       "                          Kuiper's test log-likelihood  \n",
       "Data                                                    \n",
       "Gaussian KDE                     0.0439      1835.9893  \n",
       "Normal Distribution (K=1)        0.1297      1703.3345  \n",
       "Gaussian Mixture (K=2)           0.0361      1811.0347  \n",
       "Gaussian Mixture (K=3)           0.0357      1818.1166  \n",
       "Gaussian Mixture (K=4)           0.0352      1823.1242  \n",
       "Gaussian Mixture (K=5)           0.0279      1822.7486  \n",
       "Gaussian Mixture (K=8)           0.0195      1831.9185  \n",
       "Gaussian Mixture (K=16)          0.0133      1845.7696  \n",
       "Gaussian Mixture (K=32)          0.0120      1869.8871  \n",
       "Gaussian Mixture (K=64)          0.0110      1906.3738  "
      ]
     },
     "execution_count": 19,
     "metadata": {},
     "output_type": "execute_result"
    }
   ],
   "source": [
    "comparison_table = kf.FinancialDataFrame(columns=['mean','std','skew','exkurt','Kolmogorov-Smirnov','Kuiper\\'s test','log-likelihood'])\n",
    "\n",
    "comparison_table.loc['Data'] = data_stats(series)\n",
    "comparison_table.loc['Gaussian KDE'] = comparison_stats(series, kde)\n",
    "comparison_table.loc['Normal Distribution (K=1)'] = comparison_stats(series, normal)\n",
    "comparison_table.loc['Gaussian Mixture (K=2)'] = comparison_stats(series, mix2)\n",
    "comparison_table.loc['Gaussian Mixture (K=3)'] = comparison_stats(series, mix3)\n",
    "comparison_table.loc['Gaussian Mixture (K=4)'] = comparison_stats(series, mix4)\n",
    "comparison_table.loc['Gaussian Mixture (K=5)'] = comparison_stats(series, mix5)\n",
    "comparison_table.loc['Gaussian Mixture (K=8)'] = comparison_stats(series, mix8)\n",
    "comparison_table.loc['Gaussian Mixture (K=16)'] = comparison_stats(series, mix16)\n",
    "comparison_table.loc['Gaussian Mixture (K=32)'] = comparison_stats(series, mix32)\n",
    "comparison_table.loc['Gaussian Mixture (K=64)'] = comparison_stats(series, mix64)\n",
    "\n",
    "comparison_table = comparison_table.replace(np.nan,'')\\\n",
    "                                   .replace(0,'')\n",
    "\n",
    "#comparison_table.export_to_latex(path='../latex/tables/', filename='distribution_comparison')\n",
    "\n",
    "comparison_table"
   ]
  },
  {
   "cell_type": "markdown",
   "metadata": {},
   "source": [
    "## Forecast Plots"
   ]
  },
  {
   "cell_type": "markdown",
   "metadata": {},
   "source": [
    "#### Set up model"
   ]
  },
  {
   "cell_type": "code",
   "execution_count": 20,
   "metadata": {},
   "outputs": [],
   "source": [
    "emission_models = (src.NormalModel(mu=1.1, sigma=0.2), src.NormalModel(mu=1-0.2, sigma=0.3))\n",
    "transition_matrix = np.matrix([[0.95, 0.05],\n",
    "                               [0.3, 0.7]])\n",
    "state_vector = [0.7, 0.3]\n",
    "hmm = src.HiddenMarkovModel(emission_models=emission_models, transition_matrix=transition_matrix, state_vector=state_vector)"
   ]
  },
  {
   "cell_type": "code",
   "execution_count": 27,
   "metadata": {},
   "outputs": [],
   "source": [
    "mu_0 = -0.001088091030590657\n",
    "mu_1 = 0.0007135045295192978\n",
    "sigma2_0 = 0.00035580049937316557\n",
    "sigma2_1 = 3.712493137298489e-05\n",
    "sigma_0 = sigma2_0**0.5\n",
    "sigma_1 = sigma2_1**0.5\n",
    "emission_models = (src.NormalModel(mu=mu_0+1, sigma=sigma_0), src.NormalModel(mu=mu_1+1, sigma=sigma_1))\n",
    "\n",
    "p00 = 0.9578343472909316\n",
    "p10 = 0.013033813102422378\n",
    "transition_matrix = [[p00, 1-p00],\n",
    "                     [p10, 1-p10]]\n",
    "\n",
    "state_vector = [0.7, 0.3]\n",
    "hmm = src.HiddenMarkovModel(emission_models=emission_models, transition_matrix=transition_matrix, state_vector=state_vector)"
   ]
  },
  {
   "cell_type": "code",
   "execution_count": 22,
   "metadata": {
    "collapsed": true,
    "jupyter": {
     "outputs_hidden": true
    }
   },
   "outputs": [
    {
     "name": "stderr",
     "output_type": "stream",
     "text": [
      "../src/hmm.py:183: RuntimeWarning: divide by zero encountered in log\n",
      "  score = np.log((B * Gamma).sum(axis=1)).sum(axis=0)\n",
      "../src/hmm.py:222: RuntimeWarning: divide by zero encountered in double_scalars\n",
      "  c_0 = 1/alpha_0.sum()\n",
      "../src/hmm.py:225: RuntimeWarning: invalid value encountered in multiply\n",
      "  Alpha = alpha_0*c_0\n",
      "../src/hmm.py:123: UserWarning: maximum number of iterations reached\n",
      "  warnings.warn('maximum number of iterations reached')\n",
      "../src/hmm.py:353: UserWarning: Transition matrix rounded to 6 decimal places\n",
      "  warnings.warn('Transition matrix rounded to 6 decimal places')\n"
     ]
    },
    {
     "ename": "AssertionError",
     "evalue": "transition matrix rows need to sum to one",
     "output_type": "error",
     "traceback": [
      "\u001b[0;31m---------------------------------------------------------------------------\u001b[0m",
      "\u001b[0;31mAssertionError\u001b[0m                            Traceback (most recent call last)",
      "\u001b[0;32m<ipython-input-22-ad3262e9aba8>\u001b[0m in \u001b[0;36m<module>\u001b[0;34m\u001b[0m\n\u001b[0;32m----> 1\u001b[0;31m \u001b[0mhmm\u001b[0m\u001b[0;34m.\u001b[0m\u001b[0mfit\u001b[0m\u001b[0;34m(\u001b[0m\u001b[0mseries\u001b[0m\u001b[0;34m)\u001b[0m\u001b[0;34m\u001b[0m\u001b[0;34m\u001b[0m\u001b[0m\n\u001b[0m",
      "\u001b[0;32m~/projects/hmmdalah/src/hmm.py\u001b[0m in \u001b[0;36mfit\u001b[0;34m(self, Y, method, max_iter, threshold)\u001b[0m\n\u001b[1;32m     84\u001b[0m \u001b[0;34m\u001b[0m\u001b[0m\n\u001b[1;32m     85\u001b[0m         \u001b[0;32mif\u001b[0m \u001b[0mmethod\u001b[0m \u001b[0;34m==\u001b[0m \u001b[0;34m'baumwelch'\u001b[0m\u001b[0;34m:\u001b[0m\u001b[0;34m\u001b[0m\u001b[0;34m\u001b[0m\u001b[0m\n\u001b[0;32m---> 86\u001b[0;31m             \u001b[0mself\u001b[0m \u001b[0;34m=\u001b[0m \u001b[0mself\u001b[0m\u001b[0;34m.\u001b[0m\u001b[0m_estimate_baum_welch\u001b[0m\u001b[0;34m(\u001b[0m\u001b[0mY\u001b[0m\u001b[0;34m,\u001b[0m \u001b[0mmax_iter\u001b[0m\u001b[0;34m=\u001b[0m\u001b[0mmax_iter\u001b[0m\u001b[0;34m,\u001b[0m \u001b[0mthreshold\u001b[0m\u001b[0;34m=\u001b[0m\u001b[0mthreshold\u001b[0m\u001b[0;34m,\u001b[0m \u001b[0mreturn_fit\u001b[0m\u001b[0;34m=\u001b[0m\u001b[0;32mFalse\u001b[0m\u001b[0;34m)\u001b[0m\u001b[0;34m\u001b[0m\u001b[0;34m\u001b[0m\u001b[0m\n\u001b[0m\u001b[1;32m     87\u001b[0m         \u001b[0;32melse\u001b[0m\u001b[0;34m:\u001b[0m\u001b[0;34m\u001b[0m\u001b[0;34m\u001b[0m\u001b[0m\n\u001b[1;32m     88\u001b[0m             \u001b[0;32mraise\u001b[0m \u001b[0mNotImplementedError\u001b[0m\u001b[0;34m(\u001b[0m\u001b[0;34m'fitting algorithm not implemented'\u001b[0m\u001b[0;34m)\u001b[0m\u001b[0;34m\u001b[0m\u001b[0;34m\u001b[0m\u001b[0m\n",
      "\u001b[0;32m~/projects/hmmdalah/src/hmm.py\u001b[0m in \u001b[0;36m_estimate_baum_welch\u001b[0;34m(self, Y, max_iter, threshold, return_fit)\u001b[0m\n\u001b[1;32m    123\u001b[0m             \u001b[0mwarnings\u001b[0m\u001b[0;34m.\u001b[0m\u001b[0mwarn\u001b[0m\u001b[0;34m(\u001b[0m\u001b[0;34m'maximum number of iterations reached'\u001b[0m\u001b[0;34m)\u001b[0m\u001b[0;34m\u001b[0m\u001b[0;34m\u001b[0m\u001b[0m\n\u001b[1;32m    124\u001b[0m \u001b[0;34m\u001b[0m\u001b[0m\n\u001b[0;32m--> 125\u001b[0;31m         \u001b[0mself\u001b[0m\u001b[0;34m.\u001b[0m\u001b[0m_update_attributes\u001b[0m\u001b[0;34m(\u001b[0m\u001b[0mA_\u001b[0m\u001b[0;34m,\u001b[0m \u001b[0mmodels_\u001b[0m\u001b[0;34m,\u001b[0m \u001b[0mAlpha\u001b[0m\u001b[0;34m)\u001b[0m\u001b[0;34m\u001b[0m\u001b[0;34m\u001b[0m\u001b[0m\n\u001b[0m\u001b[1;32m    126\u001b[0m \u001b[0;34m\u001b[0m\u001b[0m\n\u001b[1;32m    127\u001b[0m         \u001b[0;32mif\u001b[0m \u001b[0mreturn_fit\u001b[0m\u001b[0;34m:\u001b[0m\u001b[0;34m\u001b[0m\u001b[0;34m\u001b[0m\u001b[0m\n",
      "\u001b[0;32m~/projects/hmmdalah/src/hmm.py\u001b[0m in \u001b[0;36m_update_attributes\u001b[0;34m(self, A_, models_, Alpha)\u001b[0m\n\u001b[1;32m    352\u001b[0m             \u001b[0mA_\u001b[0m \u001b[0;34m=\u001b[0m \u001b[0mA_\u001b[0m\u001b[0;34m.\u001b[0m\u001b[0mround\u001b[0m\u001b[0;34m(\u001b[0m\u001b[0;36m6\u001b[0m\u001b[0;34m)\u001b[0m\u001b[0;34m/\u001b[0m\u001b[0mA_\u001b[0m\u001b[0;34m.\u001b[0m\u001b[0mround\u001b[0m\u001b[0;34m(\u001b[0m\u001b[0;36m6\u001b[0m\u001b[0;34m)\u001b[0m\u001b[0;34m.\u001b[0m\u001b[0msum\u001b[0m\u001b[0;34m(\u001b[0m\u001b[0maxis\u001b[0m\u001b[0;34m=\u001b[0m\u001b[0;36m1\u001b[0m\u001b[0;34m)\u001b[0m\u001b[0;34m\u001b[0m\u001b[0;34m\u001b[0m\u001b[0m\n\u001b[1;32m    353\u001b[0m             \u001b[0mwarnings\u001b[0m\u001b[0;34m.\u001b[0m\u001b[0mwarn\u001b[0m\u001b[0;34m(\u001b[0m\u001b[0;34m'Transition matrix rounded to 6 decimal places'\u001b[0m\u001b[0;34m)\u001b[0m\u001b[0;34m\u001b[0m\u001b[0;34m\u001b[0m\u001b[0m\n\u001b[0;32m--> 354\u001b[0;31m         \u001b[0mself\u001b[0m\u001b[0;34m.\u001b[0m\u001b[0mtransition_matrix\u001b[0m \u001b[0;34m=\u001b[0m \u001b[0mA_\u001b[0m\u001b[0;34m\u001b[0m\u001b[0;34m\u001b[0m\u001b[0m\n\u001b[0m\u001b[1;32m    355\u001b[0m \u001b[0;34m\u001b[0m\u001b[0m\n\u001b[1;32m    356\u001b[0m         \u001b[0mself\u001b[0m\u001b[0;34m.\u001b[0m\u001b[0memission_models\u001b[0m \u001b[0;34m=\u001b[0m \u001b[0mmodels_\u001b[0m\u001b[0;34m\u001b[0m\u001b[0;34m\u001b[0m\u001b[0m\n",
      "\u001b[0;32m~/projects/hmmdalah/src/markov.py\u001b[0m in \u001b[0;36mtransition_matrix\u001b[0;34m(self, transition_matrix)\u001b[0m\n\u001b[1;32m     30\u001b[0m                 \u001b[0;34m'transition matrix needs to be square'\u001b[0m\u001b[0;34m\u001b[0m\u001b[0;34m\u001b[0m\u001b[0m\n\u001b[1;32m     31\u001b[0m             \u001b[0;32massert\u001b[0m \u001b[0mall\u001b[0m\u001b[0;34m(\u001b[0m\u001b[0mtransition_matrix\u001b[0m\u001b[0;34m.\u001b[0m\u001b[0msum\u001b[0m\u001b[0;34m(\u001b[0m\u001b[0maxis\u001b[0m\u001b[0;34m=\u001b[0m\u001b[0;36m1\u001b[0m\u001b[0;34m)\u001b[0m \u001b[0;34m==\u001b[0m \u001b[0;36m1\u001b[0m\u001b[0;34m)\u001b[0m\u001b[0;34m,\u001b[0m\u001b[0;31m \u001b[0m\u001b[0;31m\\\u001b[0m\u001b[0;34m\u001b[0m\u001b[0;34m\u001b[0m\u001b[0m\n\u001b[0;32m---> 32\u001b[0;31m                 \u001b[0;34m'transition matrix rows need to sum to one'\u001b[0m\u001b[0;34m\u001b[0m\u001b[0;34m\u001b[0m\u001b[0m\n\u001b[0m\u001b[1;32m     33\u001b[0m             \u001b[0;32mif\u001b[0m \u001b[0mhasattr\u001b[0m\u001b[0;34m(\u001b[0m\u001b[0mself\u001b[0m\u001b[0;34m,\u001b[0m \u001b[0;34m'state_vector'\u001b[0m\u001b[0;34m)\u001b[0m \u001b[0;32mand\u001b[0m \u001b[0mself\u001b[0m\u001b[0;34m.\u001b[0m\u001b[0mstate_vector\u001b[0m \u001b[0;32mis\u001b[0m \u001b[0;32mnot\u001b[0m \u001b[0;32mNone\u001b[0m\u001b[0;34m:\u001b[0m\u001b[0;34m\u001b[0m\u001b[0;34m\u001b[0m\u001b[0m\n\u001b[1;32m     34\u001b[0m                 \u001b[0;32massert\u001b[0m \u001b[0mtransition_matrix\u001b[0m\u001b[0;34m.\u001b[0m\u001b[0mshape\u001b[0m\u001b[0;34m[\u001b[0m\u001b[0;36m0\u001b[0m\u001b[0;34m]\u001b[0m \u001b[0;34m==\u001b[0m \u001b[0mself\u001b[0m\u001b[0;34m.\u001b[0m\u001b[0mstate_vector\u001b[0m\u001b[0;34m.\u001b[0m\u001b[0mshape\u001b[0m\u001b[0;34m[\u001b[0m\u001b[0;36m1\u001b[0m\u001b[0;34m]\u001b[0m\u001b[0;34m,\u001b[0m\u001b[0;31m \u001b[0m\u001b[0;31m\\\u001b[0m\u001b[0;34m\u001b[0m\u001b[0;34m\u001b[0m\u001b[0m\n",
      "\u001b[0;31mAssertionError\u001b[0m: transition matrix rows need to sum to one"
     ]
    }
   ],
   "source": [
    "hmm.fit(series)"
   ]
  },
  {
   "cell_type": "code",
   "execution_count": 28,
   "metadata": {},
   "outputs": [
    {
     "data": {
      "text/plain": [
       "array([[0.95783435, 0.04216565],\n",
       "       [0.01303381, 0.98696619]])"
      ]
     },
     "execution_count": 28,
     "metadata": {},
     "output_type": "execute_result"
    }
   ],
   "source": [
    "hmm.transition_matrix"
   ]
  },
  {
   "cell_type": "code",
   "execution_count": 29,
   "metadata": {},
   "outputs": [
    {
     "data": {
      "text/plain": [
       "([0.9989119089694093, 1.0007135045295192],\n",
       " [0.018862674767200053, 0.006093023171873294])"
      ]
     },
     "execution_count": 29,
     "metadata": {},
     "output_type": "execute_result"
    }
   ],
   "source": [
    "hmm.component_means(), hmm.component_stds()"
   ]
  },
  {
   "cell_type": "code",
   "execution_count": 30,
   "metadata": {},
   "outputs": [
    {
     "data": {
      "text/plain": [
       "array([[0.7, 0.3]])"
      ]
     },
     "execution_count": 30,
     "metadata": {},
     "output_type": "execute_result"
    }
   ],
   "source": [
    "hmm.state_vector"
   ]
  },
  {
   "cell_type": "markdown",
   "metadata": {},
   "source": [
    "### Plot"
   ]
  },
  {
   "cell_type": "code",
   "execution_count": 48,
   "metadata": {},
   "outputs": [],
   "source": [
    "# plot parameters\n",
    "state_names = ['SS','S0','S1']\n",
    "H = 100\n",
    "pdf_horizons = np.arange(13)\n",
    "pdf_horizons = [0,1,5,10,25,50,75,100]#[0,1,5,10,15,21,31,42,63,126,189,252]:\n",
    "\n",
    "# model states\n",
    "hmm_ss = hmm.copy()\n",
    "hmm_ss.steady_state(set_state=True)\n",
    "\n",
    "hmm_0 = hmm.copy()\n",
    "hmm_0.state_vector = [1, 0]\n",
    "\n",
    "hmm_1 = hmm.copy()\n",
    "hmm_1.state_vector = [0, 1]\n",
    "\n",
    "hmms = [hmm_ss, hmm_0, hmm_1]"
   ]
  },
  {
   "cell_type": "code",
   "execution_count": null,
   "metadata": {},
   "outputs": [
    {
     "name": "stderr",
     "output_type": "stream",
     "text": [
      "../src/markov.py:122: UserWarning: state vector probabilities rounded to 8 digits\n",
      "  warnings.warn('state vector probabilities rounded to 8 digits')\n",
      "../src/markov.py:122: UserWarning: state vector probabilities rounded to 8 digits\n",
      "  warnings.warn('state vector probabilities rounded to 8 digits')\n",
      "../src/markov.py:122: UserWarning: state vector probabilities rounded to 8 digits\n",
      "  warnings.warn('state vector probabilities rounded to 8 digits')\n"
     ]
    }
   ],
   "source": [
    "from src.plots import plot_pdf\n",
    "\n",
    "fig, axes = plt.subplots(6, 3, figsize=[17,24])\n",
    "colormap = plt.cm.get_cmap('coolwarm')\n",
    "\n",
    "i = 0\n",
    "for hmm in hmms:\n",
    "    # state variable\n",
    "    ax = axes[0,i]\n",
    "    ax.set_ylim([-0.05,1.05])\n",
    "    ax.plot([hmm.iterate(h).state_vector.squeeze()[0] for h in range(H)], linewidth=2, linestyle='-', label='$\\mathbb{E}_t[P(m_{t+h}=1)]$')\n",
    "    ax.plot([hmm.iterate(h).state_vector.squeeze()[1] for h in range(H)], linewidth=2, linestyle='--', label='$\\mathbb{E}_t[P(m_{t+h}=2)]$')\n",
    "    ax.plot([hmm.iterate(h).entropy() for h in range(H)], linewidth=2, linestyle=(0, (3, 1, 1, 1)), label='State entropy')\n",
    "    ax.axhline(hmm.steady_state()[0], color='k', linewidth=0.5, linestyle=':', label='Steady state')\n",
    "    ax.axhline(hmm.steady_state()[1], color='k', linewidth=0.5, linestyle=':')\n",
    "    ax.axhline(hmm_ss.entropy(), color='k', linewidth=0.5, linestyle=':')\n",
    "    ax.set_xlabel('Forecast horizon $h$')\n",
    "    if i == 0:\n",
    "        ax.set_ylabel('Expected state probabilities')\n",
    "    if i == 2:\n",
    "        ax.legend()\n",
    "    \n",
    "    # pdfs\n",
    "    ax = axes[1,i]\n",
    "    ax.set_ylim([-2, 70])\n",
    "    for h in pdf_horizons:\n",
    "        plot_pdf(hmm.iterate(h).distribution, ax=ax, label='t+'+str(h), color=colormap(1/10*h), linewidth=1.5)\n",
    "        ax.set_xlabel('Growth factor (1+X)')\n",
    "    if i == 0:\n",
    "        ax.set_ylabel('Probability denstity forecasts')\n",
    "    if i == 2:\n",
    "        ax.legend()\n",
    "    \n",
    "    # mean & std\n",
    "    ax = axes[2,i]\n",
    "    ax.set_ylim([-0.0025, 0.02])\n",
    "    ax.plot([hmm.iterate(h).mean()-1 for h in range(H)], linewidth=2, linestyle='-', label='Mean')\n",
    "    ax.plot([hmm.iterate(h).std() for h in range(H)], linewidth=2, linestyle='--', label='Standard deviation')\n",
    "    ax.axhline(hmm_ss.mean()-1, color='k', linewidth=0.5, linestyle=':', label='Steady state')\n",
    "    ax.axhline(hmm_ss.std(), color='k', linewidth=0.5, linestyle=':')\n",
    "    ax.set_xlabel('Forecast horizon $h$')\n",
    "    if i == 0:\n",
    "        ax.set_ylabel('Expected moments')\n",
    "    if i == 2:\n",
    "        ax.legend()\n",
    "    \n",
    "    # skew & kurt\n",
    "    ax = axes[3,i]\n",
    "    ax.set_ylim([-0.5, 6.5])\n",
    "    ax.plot(np.nan)\n",
    "    ax.plot(np.nan)\n",
    "    ax.plot([hmm.iterate(h).skew() for h in range(H)], linewidth=2, linestyle='-.', label='Skewness')\n",
    "    ax.plot([hmm.iterate(h).exkurt() for h in range(H)], linewidth=2, linestyle=':', label='Excess kurtosis')\n",
    "    ax.axhline(hmm_ss.skew(), color='k', linewidth=0.5, linestyle=':', label='Steady state')\n",
    "    ax.axhline(hmm_ss.exkurt(), color='k', linewidth=0.5, linestyle=':')\n",
    "    ax.set_xlabel('Forecast horizon $h$')\n",
    "    if i == 0:\n",
    "        ax.set_ylabel('Expected moments')\n",
    "    if i == 2:\n",
    "        ax.legend()\n",
    "    \n",
    "    # product mean & std\n",
    "    ax = axes[4,i]\n",
    "    ax.set_xlim([0-0.1,H-0.9])\n",
    "    ax.set_ylim([-0.02, 0.14])\n",
    "    ax.plot([np.nan]+[hmm.product_distribution(h).mean()-1 for h in range(1,H)], linewidth=2, linestyle='-', label='Mean')\n",
    "    ax.plot([np.nan]+[hmm.product_distribution(h).std() for h in range(1,H)], linewidth=2, linestyle='--', label='Standard deviation')\n",
    "    ax.set_xlabel('Accumulation Period $H$')\n",
    "    if i == 0:\n",
    "        ax.set_ylabel('Expected cumulative moments')\n",
    "    if i == 2:\n",
    "        ax.legend()\n",
    "    \n",
    "    # product skew & kurt\n",
    "    ax = axes[5,i]\n",
    "    #ax.set_xlim([0-0.1,H-0.9])\n",
    "    ax.set_ylim([-0.5, 4.5])\n",
    "    ax.plot(np.nan)\n",
    "    ax.plot(np.nan)\n",
    "    ax.plot([np.nan]+[hmm.product_distribution(h).skew() for h in range(1,H)], linestyle='-.', label='Skewness')\n",
    "    ax.plot([np.nan]+[hmm.product_distribution(h).exkurt() for h in range(1,H)], linewidth=2, linestyle=':', label='Excess Kurtosis')\n",
    "    ax.set_xlabel('Accumulation Period $H$')\n",
    "    if i == 0:\n",
    "        ax.set_ylabel('Expected cumulative moments')\n",
    "    if i == 2:\n",
    "        ax.legend()\n",
    "    \n",
    "    i += 1\n",
    "\n",
    "axes[0,0].set_title('From steady state')\n",
    "axes[0,1].set_title('From state 0')\n",
    "axes[0,2].set_title('From state 1')\n",
    "\n",
    "fig.suptitle('Generic HMM Forecasts', y=1.01, fontsize=16)\n",
    "\n",
    "fig.tight_layout()\n",
    "\n",
    "plt.show()\n",
    "\n",
    "fig.savefig('../latex/figures/generic_forecast.pdf', format='pdf', dpi=200, bbox_inches='tight')"
   ]
  },
  {
   "cell_type": "markdown",
   "metadata": {},
   "source": [
    "## LEGACY"
   ]
  },
  {
   "cell_type": "code",
   "execution_count": null,
   "metadata": {},
   "outputs": [],
   "source": [
    "import matplotlib.pyplot as plt\n",
    "import numpy as np\n",
    "import scipy as sp\n",
    "import scipy.stats as ss\n",
    "import math\n",
    "import seaborn as sns\n",
    "import pandas as pd\n",
    "import statsmodels.api as sm\n",
    "import sklearn.mixture as mix\n",
    "import datetime as dt\n",
    "\n",
    "import mypack.plot as plot\n",
    "import mypack.calc as calc\n",
    "import mypack.clas as clas\n",
    "import mypack.data as data"
   ]
  },
  {
   "cell_type": "code",
   "execution_count": null,
   "metadata": {},
   "outputs": [],
   "source": [
    "pd.set_option('display.float_format', lambda x: '%.4f' % x) #sets decimals to be displayed"
   ]
  },
  {
   "cell_type": "code",
   "execution_count": null,
   "metadata": {},
   "outputs": [],
   "source": [
    "sns.set() # sets matplotlib style\n",
    "sns.set(rc={'figure.figsize': (17, 6)})"
   ]
  },
  {
   "cell_type": "code",
   "execution_count": null,
   "metadata": {},
   "outputs": [],
   "source": [
    "%matplotlib inline"
   ]
  },
  {
   "cell_type": "markdown",
   "metadata": {},
   "source": [
    "## Import data"
   ]
  },
  {
   "cell_type": "code",
   "execution_count": null,
   "metadata": {},
   "outputs": [],
   "source": [
    "df_market = pd.read_pickle('df_ts_estimates.pkl')"
   ]
  },
  {
   "cell_type": "code",
   "execution_count": null,
   "metadata": {},
   "outputs": [],
   "source": [
    "df_daily = data.download_factor_data('D')['Mkt-RF']/100\n",
    "#factors_monthly = data.download_factor_data('M')/100"
   ]
  },
  {
   "cell_type": "markdown",
   "metadata": {},
   "source": [
    "## Shape of a Gaussian mixture"
   ]
  },
  {
   "cell_type": "code",
   "execution_count": null,
   "metadata": {},
   "outputs": [],
   "source": [
    "# inputs\n",
    "mixture = clas.MixtureDistribution([])\n",
    "mixture.add_component((-0.0015, 0.02, 0.3))\n",
    "mixture.add_component((0.00075, 0.005, 0.7))\n",
    "#mixture.add_component((-0.0013678325990907631, 0.020811215687394986, 0.19183567056256604))\n",
    "#mixture.add_component((0.0006879740776781325, 0.0061089838682783365, 1-0.19183567056256604))"
   ]
  },
  {
   "cell_type": "code",
   "execution_count": null,
   "metadata": {},
   "outputs": [],
   "source": [
    "# calculations\n",
    "mus,sigmas,ps = [],[],[]\n",
    "mus += [m for (m,s,p) in mixture.components]\n",
    "sigmas += [s for (m,s,p) in mixture.components]\n",
    "ps += [p for (m,s,p) in mixture.components]\n",
    "\n",
    "x = np.linspace(min(mus)-3*max(sigmas), max(mus)+3*max(sigmas), 201)\n",
    "\n",
    "ys = []\n",
    "y_mix = np.zeros(201)\n",
    "for (m,s,p) in mixture.components:\n",
    "    ys += [p*sp.stats.norm.pdf(x, m, s)]\n",
    "    y_mix += p*sp.stats.norm.pdf(x, m, s)"
   ]
  },
  {
   "cell_type": "code",
   "execution_count": null,
   "metadata": {},
   "outputs": [],
   "source": [
    "# labels\n",
    "(m,v,s,k) = mixture.mvsk()\n",
    "mix_label = 'Mixture ( μ='+'{:0.4f}'.format(m)+', σ='+'{:0.4f}'.format(v**0.5)+', skew='+'{:0.4f}'.format(s)+', exkurt='+'{:0.4f}'.format(k)+' )'\n",
    "com_labels = []\n",
    "com_labels += ['Component '+str(i)+' ( $\\mathcal{N}$(μ$_0$='+'{:0.4f}'.format(m)+', σ$_0$='+'{:0.4f}'.format(s)+'), P$_0$='+'{:0.4f}'.format(p)+' )' for (m,s,p),i in zip(mixture.components,range(0,mixture.n_components))]"
   ]
  },
  {
   "cell_type": "code",
   "execution_count": null,
   "metadata": {},
   "outputs": [],
   "source": [
    "#plot\n",
    "fig,ax = plt.subplots(1,1,figsize=[17,6])\n",
    "#ax.axhline(0, color='k', linewidth=0.5)\n",
    "ax.plot(x, y_mix, label=mix_label, linewidth=2)\n",
    "ax.plot(x, ys[0], label=com_labels[0], linestyle='--', linewidth=2)\n",
    "ax.plot(x, ys[1], label=com_labels[1], linestyle='-.', linewidth=2)\n",
    "if len(ys) > 2:\n",
    "    for iComp in range(2,len(ys)):\n",
    "        ax.plot(x, ys[iComp], label=com_labels[iComp], linestyle=':', linewidth=1)\n",
    "ax.axvline(m, color='k', linewidth=0.5, label='Mixture mean μ')\n",
    "ax.legend(loc='upper left')\n",
    "ax.set_title('Probability density: Mixture distribution of two normal components')\n",
    "plt.show()\n",
    "\n",
    "#fig.savefig('mixtureDistributionPlot.pdf', format='pdf', dpi=200, bbox_inches='tight')"
   ]
  },
  {
   "cell_type": "markdown",
   "metadata": {},
   "source": [
    "## Gaussian Mixture Model"
   ]
  },
  {
   "cell_type": "code",
   "execution_count": null,
   "metadata": {},
   "outputs": [],
   "source": [
    "n_components=2"
   ]
  },
  {
   "cell_type": "code",
   "execution_count": null,
   "metadata": {},
   "outputs": [],
   "source": [
    "# data\n",
    "y = df_daily\n",
    "\n",
    "# create kernel density estimate\n",
    "kerneldensity  = sp.stats.gaussian_kde(y)\n",
    "(m,v,s,k) = (y.mean(), y.var(), y.skew(), y.kurtosis())\n",
    "kernel_label = 'Empirical kernel density ( μ='+'{:0.4f}'.format(m)+', σ='+'{:0.4f}'.format(v**0.5)+', skew='+'{:0.4f}'.format(s)+', exkurt='+'{:0.4f}'.format(k)+' )'"
   ]
  },
  {
   "cell_type": "code",
   "execution_count": null,
   "metadata": {},
   "outputs": [],
   "source": [
    "# estimate mixture (from Gaussian mixture model)\n",
    "mix_model = mix.GaussianMixture(n_components).fit(y.values.reshape(-1, 1))\n",
    "mixture_gmm = clas.MixtureDistribution([])\n",
    "for (m,s,p) in zip(mix_model.means_.flatten(),mix_model.covariances_.flatten()**0.5,mix_model.weights_):\n",
    "    mixture_gmm.add_component((m,s,p))\n",
    "\n",
    "(m,v,s,k) = mixture_gmm.mvsk()\n",
    "mix_label = 'Gaussian mixture ( μ='+'{:0.4f}'.format(m)+', σ='+'{:0.4f}'.format(v**0.5)+', skew='+'{:0.4f}'.format(s)+', exkurt='+'{:0.4f}'.format(k)+' )'\n",
    "com_labels = []\n",
    "com_labels += ['Component '+str(i)+' ( $\\mathcal{N}$(μ$_0$='+'{:0.4f}'.format(m)+', σ$_0$='+'{:0.4f}'.format(s)+'), P$_0$='+'{:0.4f}'.format(p)+' )' for (m,s,p),i in zip(mixture_gmm.components,range(0,mixture_gmm.n_components))]"
   ]
  },
  {
   "cell_type": "code",
   "execution_count": null,
   "metadata": {},
   "outputs": [],
   "source": [
    "# calculations\n",
    "mus,sigmas,ps = [],[],[]\n",
    "mus += [m for (m,s,p) in mixture_gmm.components]\n",
    "sigmas += [s for (m,s,p) in mixture_gmm.components]\n",
    "ps += [p for (m,s,p) in mixture_gmm.components]\n",
    "\n",
    "x = np.linspace(min(mus)-3*max(sigmas), max(mus)+3*max(sigmas), 201)\n",
    "\n",
    "y_normal = sp.stats.norm.pdf(x, y.mean(), y.var()**0.5)\n",
    "normal_label = 'Normal distribution ( μ='+'{:0.4f}'.format(y.mean())+', σ='+'{:0.4f}'.format(y.var()**0.5)+' )'\n",
    "\n",
    "ys = []\n",
    "y_mix = np.zeros(201)\n",
    "for (m,s,p) in mixture_gmm.components:\n",
    "    ys += [p*sp.stats.norm.pdf(x, m, s)]\n",
    "    y_mix += p*sp.stats.norm.pdf(x, m, s)"
   ]
  },
  {
   "cell_type": "code",
   "execution_count": null,
   "metadata": {},
   "outputs": [],
   "source": [
    "# labels\n",
    "(m,v,s,k) = mixture_gmm.mvsk()\n",
    "mix_label = 'Mixture ( μ='+'{:0.4f}'.format(m)+', σ='+'{:0.4f}'.format(v**0.5)+', skew='+'{:0.4f}'.format(s)+', exkurt='+'{:0.4f}'.format(k)+' )'\n",
    "com_labels = []\n",
    "com_labels += ['Component '+str(i)+' ( $\\mathcal{N}$(μ$_0$='+'{:0.4f}'.format(m)+', σ$_0$='+'{:0.4f}'.format(s)+'), P$_0$='+'{:0.4f}'.format(p)+' )' for (m,s,p),i in zip(mixture_gmm.components,range(0,mixture_gmm.n_components))]"
   ]
  },
  {
   "cell_type": "code",
   "execution_count": null,
   "metadata": {},
   "outputs": [],
   "source": [
    "#plot\n",
    "fig,ax = plt.subplots(1,1,figsize=[17,6])\n",
    "#ax.axhline(0, color='k', linewidth=0.5)\n",
    "\n",
    "ax.fill_between(x, kerneldensity(x), linewidth=0, alpha=0.3)#, color='#b6c4db'\n",
    "ax.plot(x, y_mix, label=mix_label, linewidth=2)\n",
    "ax.plot(x, kerneldensity(x), label=kernel_label, linewidth=2, linestyle='-.')\n",
    "ax.plot(x, y_normal, label=normal_label, linestyle='--', linewidth=2)\n",
    "\n",
    "for iComp in range(0,len(ys)):\n",
    "    ax.plot(x, ys[iComp], label=com_labels[iComp], linestyle=':', linewidth=1)\n",
    "        \n",
    "#ax.axvline(m, color='k', linewidth=0.5, label='Mixture mean μ')\n",
    "ax.legend(loc='upper left')\n",
    "ax.set_title('Kernel density estimate and Gaussian Mixture Model estimate of daily market excess return data')\n",
    "plt.show()\n",
    "\n",
    "#fig.savefig('gaussianMixtureModelDistributionPlot.pdf', format='pdf', dpi=200, bbox_inches='tight')"
   ]
  },
  {
   "cell_type": "code",
   "execution_count": null,
   "metadata": {},
   "outputs": [],
   "source": [
    "colormap = plt.cm.get_cmap('coolwarm_r')\n",
    "\n",
    "fig, ax = plt.subplots(1,1,figsize=[17,6])\n",
    "plot.add_recession_bars(ax, startdate=y.index[0])\n",
    "ax.axhline(0, color='k', linewidth=0.5)\n",
    "color = pd.DataFrame(mix_model.predict_proba(y.values.reshape(-1, 1)))[1]\n",
    "size = 2#color*10\n",
    "scat = ax.scatter(y.index, y, c=color, cmap=colormap, s=size, rasterized=True)#, linewidths=0.2, edgecolor='k')\n",
    "ax.set_ylabel('Excess return')\n",
    "ax.set_title('Market excess return component probability from Gaussian Mixture Model estimate')\n",
    "cbar = ax.figure.colorbar(scat, pad=0.01)\n",
    "cbar.set_label('Component probability')\n",
    "plt.show()\n",
    "\n",
    "#fig.savefig('gaussianMixtureModelClassificationPlot.pdf', format='pdf', dpi=200, bbox_inches='tight')"
   ]
  },
  {
   "cell_type": "markdown",
   "metadata": {},
   "source": [
    "## Trends in the data"
   ]
  },
  {
   "cell_type": "code",
   "execution_count": null,
   "metadata": {},
   "outputs": [],
   "source": [
    "colormap = plt.cm.get_cmap('coolwarm')\n",
    "\n",
    "fig, ax = plt.subplots(1,1,figsize=[17,6])\n",
    "plot.add_recession_bars(ax, startdate=y.index[0])\n",
    "ax.axhline(0, color='k', linewidth=0.5)\n",
    "color = ((y.rolling(22).mean()<y.rolling(22).mean().quantile(0.2)).astype(int)-(y.rolling(22).mean()>y.rolling(22).mean().quantile(0.8)))/2+0.5\n",
    "ax.scatter(y.index, y, c=color, cmap=colormap, s=(color-0.5).abs()*2+0.5)\n",
    "ax.set_title('Short-term trends')\n",
    "\n",
    "plt.show()"
   ]
  },
  {
   "cell_type": "code",
   "execution_count": null,
   "metadata": {},
   "outputs": [],
   "source": [
    "colormap = plt.cm.get_cmap('coolwarm')\n",
    "\n",
    "fig, ax = plt.subplots(1,1,figsize=[17,6])\n",
    "plot.add_recession_bars(ax, startdate=y.index[0])\n",
    "ax.axhline(0, color='k', linewidth=0.5)\n",
    "#ax.scatter(y.index, y, c=hmm_model.smoothed_marginal_probabilities[0], cmap=colormap, s=hmm_model.smoothed_marginal_probabilities[0]*2+0.2)\n",
    "color = ((y**2).rolling(22).mean()>(y**2).rolling(22).mean().quantile(0.8))\n",
    "size = color+0.5\n",
    "ax.scatter(y.index, y, c=color, cmap=colormap, s=size)\n",
    "ax.set_title('Volatility clusters')\n",
    "\n",
    "plt.show()"
   ]
  },
  {
   "cell_type": "markdown",
   "metadata": {},
   "source": [
    "## Hidden Markov Model"
   ]
  },
  {
   "cell_type": "code",
   "execution_count": null,
   "metadata": {},
   "outputs": [],
   "source": [
    "# data\n",
    "y = df_daily\n",
    "\n",
    "# create kernel density estimate\n",
    "kerneldensity  = sp.stats.gaussian_kde(y)\n",
    "(m,v,s,k) = (y.mean(), y.var(), y.skew(), y.kurtosis())\n",
    "kernel_label = 'Empirical kernel density ( μ='+'{:0.4f}'.format(m)+', σ='+'{:0.4f}'.format(v**0.5)+', skew='+'{:0.4f}'.format(s)+', exkurt='+'{:0.4f}'.format(k)+' )'"
   ]
  },
  {
   "cell_type": "code",
   "execution_count": null,
   "metadata": {},
   "outputs": [],
   "source": [
    "# estimate mixture (from Hidden Markov Model)\n",
    "hmm_model = sm.tsa.MarkovRegression(y, k_regimes=2, exog=None, switching_trend=True, switching_exog=False, switching_variance=True, missing='drop')\\\n",
    "                    .fit(cov_type='robust', start_params=[0.95,0.02,m,m,v*2,v/2], method='powell', disp=False)\n",
    "(mu_0, mu_1) = hmm_model.params.values[2:4]\n",
    "(sigma_0, sigma_1) = hmm_model.params.values[4:6]**0.5\n",
    "(p0, p1) = hmm_model.smoothed_marginal_probabilities.mean().values\n",
    "mixture_hmm = clas.MixtureDistribution([(mu_0, sigma_0, p0),(mu_1, sigma_1, p1)])\n",
    "\n",
    "(m,v,s,k) = mixture_hmm.mvsk()\n",
    "mix_label = 'Gaussian mixture ( μ='+'{:0.4f}'.format(m)+', σ='+'{:0.4f}'.format(v**0.5)+', skew='+'{:0.4f}'.format(s)+', exkurt='+'{:0.4f}'.format(k)+' )'\n",
    "com_labels = []\n",
    "com_labels += ['Component '+str(i)+' ( $\\mathcal{N}$(μ$_0$='+'{:0.4f}'.format(m)+', σ$_0$='+'{:0.4f}'.format(s)+'), P$_0$='+'{:0.4f}'.format(p)+' )' for (m,s,p),i in zip(mixture_hmm.components,range(0,mixture_hmm.n_components))]"
   ]
  },
  {
   "cell_type": "code",
   "execution_count": null,
   "metadata": {},
   "outputs": [],
   "source": [
    "# calculations\n",
    "mus,sigmas,ps = [],[],[]\n",
    "mus += [m for (m,s,p) in mixture_hmm.components]\n",
    "sigmas += [s for (m,s,p) in mixture_hmm.components]\n",
    "ps += [p for (m,s,p) in mixture_hmm.components]\n",
    "\n",
    "x = np.linspace(min(mus)-3*max(sigmas), max(mus)+3*max(sigmas), 201)\n",
    "\n",
    "y_normal = sp.stats.norm.pdf(x, y.mean(), y.var()**0.5)\n",
    "normal_label = 'Normal distribution ( μ='+'{:0.4f}'.format(y.mean())+', σ='+'{:0.4f}'.format(y.var()**0.5)+' )'\n",
    "\n",
    "ys = []\n",
    "y_mix = np.zeros(201)\n",
    "for (m,s,p) in mixture_hmm.components:\n",
    "    ys += [p*sp.stats.norm.pdf(x, m, s)]\n",
    "    y_mix += p*sp.stats.norm.pdf(x, m, s)"
   ]
  },
  {
   "cell_type": "code",
   "execution_count": null,
   "metadata": {},
   "outputs": [],
   "source": [
    "# labels\n",
    "(m,v,s,k) = mixture_hmm.mvsk()\n",
    "mix_label = 'Mixture ( μ='+'{:0.4f}'.format(m)+', σ='+'{:0.4f}'.format(v**0.5)+', skew='+'{:0.4f}'.format(s)+', exkurt='+'{:0.4f}'.format(k)+' )'\n",
    "com_labels = []\n",
    "com_labels += ['Component '+str(i)+' ( $\\mathcal{N}$(μ$_0$='+'{:0.4f}'.format(m)+', σ$_0$='+'{:0.4f}'.format(s)+'), P$_0$='+'{:0.4f}'.format(p)+' )' for (m,s,p),i in zip(mixture_hmm.components,range(0,mixture_hmm.n_components))]"
   ]
  },
  {
   "cell_type": "code",
   "execution_count": null,
   "metadata": {},
   "outputs": [],
   "source": [
    "#plot\n",
    "fig,ax = plt.subplots(1,1,figsize=[17,6])\n",
    "#ax.axhline(0, color='k', linewidth=0.5)\n",
    "\n",
    "ax.fill_between(x, kerneldensity(x), linewidth=0, alpha=0.3)#, color='#b6c4db'\n",
    "ax.plot(x, y_mix, label=mix_label, linewidth=2)\n",
    "ax.plot(x, kerneldensity(x), label=kernel_label, linewidth=2, linestyle='-.')\n",
    "ax.plot(x, y_normal, label=normal_label, linestyle='--', linewidth=2)\n",
    "\n",
    "for iComp in range(0,len(ys)):\n",
    "    ax.plot(x, ys[iComp], label=com_labels[iComp], linestyle=':', linewidth=1)\n",
    "        \n",
    "#ax.axvline(m, color='k', linewidth=0.5, label='Mixture mean μ')\n",
    "ax.legend(loc='upper left')\n",
    "ax.set_title('Kernel density estimate and Hidden Markov Model estimate of daily market excess return data')\n",
    "plt.show()\n",
    "\n",
    "#fig.savefig('hiddenMarkovModelDistributionPlot.pdf', format='pdf', dpi=200, bbox_inches='tight')"
   ]
  },
  {
   "cell_type": "code",
   "execution_count": null,
   "metadata": {},
   "outputs": [],
   "source": [
    "colormap = plt.cm.get_cmap('coolwarm_r')\n",
    "\n",
    "fig, ax = plt.subplots(1,1,figsize=[17,6])\n",
    "plot.add_recession_bars(ax, startdate=y.index[0])\n",
    "ax.axhline(0, color='k', linewidth=0.5)\n",
    "color = hmm_model.smoothed_marginal_probabilities[1]\n",
    "color = hmm_model.filtered_marginal_probabilities[1]\n",
    "size = 2#(color+5)\n",
    "scat = ax.scatter(y.index, y, c=color, cmap=colormap, s=size, rasterized=True)#, linewidths=0.2, edgecolor='k')\n",
    "ax.set_ylabel('Excess return')\n",
    "ax.set_title('Market excess return regime probability from Hidden Markov Model estimate')\n",
    "cbar = ax.figure.colorbar(scat, pad=0.01)\n",
    "cbar.set_label('Filtered regime probability')\n",
    "plt.show()\n",
    "\n",
    "#fig.savefig('hiddenMarkovModelClassificationPlot.pdf', format='pdf', dpi=200, bbox_inches='tight')"
   ]
  },
  {
   "cell_type": "code",
   "execution_count": null,
   "metadata": {},
   "outputs": [],
   "source": [
    "p00 = hmm_model.params.values[0]\n",
    "p10 = hmm_model.params.values[1]\n",
    "transition_matrix = [[p00, 1-p00],\n",
    "                     [p10, 1-p10]]\n",
    "mc = clas.MarkovChain(transition_matrix)\n",
    "steady_state = mc.calculate_steady_state()\n",
    "expected_durations = mc.calculate_expected_durations()\n",
    "#steady_state = calc.calculate_steady_state_probabilities(transition_matrix)\n",
    "\n",
    "hmm_parameter_table = pd.DataFrame(index=['$p_{00}$','$p_{10}$','$\\mu_0$','$\\mu_1$','$\\sigma_0$','$\\sigma_1$','$P_{SS}[S=0]$','$P_{SS}[S=1]$','Exp. duration state 0','Exp. duration state 1'],columns=['estimate','s.e.'])\n",
    "\n",
    "hmm_parameter_table.loc[['$p_{00}$','$p_{10}$','$\\mu_0$','$\\mu_1$'],'estimate'] = hmm_model.params.values[0:4]\n",
    "hmm_parameter_table.loc[['$\\sigma_0$','$\\sigma_1$'],'estimate'] = hmm_model.params.values[4:6]**0.5\n",
    "\n",
    "hmm_parameter_table.loc[['$p_{00}$','$p_{10}$','$\\mu_0$','$\\mu_1$'],'s.e.'] = hmm_model.bse.values[0:4]\n",
    "hmm_parameter_table.loc[['$\\sigma_0$','$\\sigma_1$'],'s.e.'] = hmm_model.bse.values[4:6]**0.5\n",
    "\n",
    "hmm_parameter_table.loc[['$P_{SS}[S=0]$','$P_{SS}[S=1]$'],'estimate'] = steady_state\n",
    "hmm_parameter_table.loc[['Exp. duration state 0','Exp. duration state 1'],'estimate'] = expected_durations\n",
    "\n",
    "hmm_parameter_table[hmm_parameter_table.isna()] = ''\n",
    "hmm_parameter_table\n",
    "\n",
    "#calc.export_df_to_latex(hmm_parameter_table, 'hmm_parameter_table')"
   ]
  },
  {
   "cell_type": "markdown",
   "metadata": {},
   "source": [
    "## Model Comparison"
   ]
  },
  {
   "cell_type": "code",
   "execution_count": null,
   "metadata": {},
   "outputs": [],
   "source": [
    "w = 1/y.count()\n",
    "#s = ((4*y.std()**5)/(3*y.count()))**(1/5) #silverman's rule\n",
    "s = 3.5*y.std()/(y.count()**(1/3)) #scott's rule\n",
    "kde = clas.MixtureDistribution([(m,s,w) for m in y])\n",
    "\n",
    "distribution_tests_table = pd.DataFrame(index=['Gaussian Kernel','Gaussian Mixture Model','Hidden Markov Model','Normal Distribution'],columns=['Kolmogorov-Smirnov','Kuiper\\'s test'])\n",
    "\n",
    "distribution_tests_table.loc['Gaussian Kernel','Kolmogorov-Smirnov'] = sp.stats.kstest(y, kde.cdf)[0]\n",
    "distribution_tests_table.loc['Gaussian Mixture Model','Kolmogorov-Smirnov'] = sp.stats.kstest(y, mixture_gmm.cdf)[0]\n",
    "distribution_tests_table.loc['Hidden Markov Model','Kolmogorov-Smirnov'] = sp.stats.kstest(y, mixture_hmm.cdf)[0]\n",
    "distribution_tests_table.loc['Normal Distribution','Kolmogorov-Smirnov'] = sp.stats.kstest(y, sp.stats.norm(y.mean(),y.std()).cdf)[0]\n",
    "\n",
    "distribution_tests_table.loc['Gaussian Kernel','Kuiper\\'s test'] = sp.stats.kstest(y, kde.cdf, alternative='less')[0] + sp.stats.kstest(y, kde.cdf, alternative='greater')[0]\n",
    "distribution_tests_table.loc['Gaussian Mixture Model','Kuiper\\'s test'] = sp.stats.kstest(y, mixture_gmm.cdf, alternative='less')[0] + sp.stats.kstest(y, mixture_gmm.cdf, alternative='greater')[0]\n",
    "distribution_tests_table.loc['Hidden Markov Model','Kuiper\\'s test'] = sp.stats.kstest(y, mixture_hmm.cdf, alternative='less')[0] + sp.stats.kstest(y, mixture_hmm.cdf, alternative='greater')[0]\n",
    "distribution_tests_table.loc['Normal Distribution','Kuiper\\'s test'] = sp.stats.kstest(y, sp.stats.norm(y.mean(),y.std()).cdf, alternative='less')[0] + sp.stats.kstest(y, sp.stats.norm(y.mean(),y.std()).cdf, alternative='greater')[0]\n",
    "\n",
    "calc.export_df_to_latex(distribution_tests_table, 'distribution_tests_table')\n",
    "\n",
    "distribution_tests_table"
   ]
  },
  {
   "cell_type": "markdown",
   "metadata": {},
   "source": [
    "# OLD CODE"
   ]
  },
  {
   "cell_type": "code",
   "execution_count": null,
   "metadata": {},
   "outputs": [],
   "source": [
    "%%time\n",
    "start_params=[0.95,0.02,0.02,0.02,#0.02,\n",
    "              0.02,0.95,0.02,0.02,#0.02,\n",
    "              0.02,0.02,0.95,0.02,#0.02,\n",
    "              #0.02,0.02,0.02,0.95,0.02,\n",
    "              m,m,m,m,\n",
    "              v*2,v/2,v,v]\n",
    "\n",
    "hmm_model = sm.tsa.MarkovRegression(y, k_regimes=4, exog=None, switching_trend=True, switching_exog=False, switching_variance=True, missing='drop')\\\n",
    "                    .fit(cov_type='robust', start_params=start_params, method='powell', disp=False)\n",
    "hmm_model.summary()"
   ]
  }
 ],
 "metadata": {
  "kernelspec": {
   "display_name": "Python 3",
   "language": "python",
   "name": "python3"
  },
  "language_info": {
   "codemirror_mode": {
    "name": "ipython",
    "version": 3
   },
   "file_extension": ".py",
   "mimetype": "text/x-python",
   "name": "python",
   "nbconvert_exporter": "python",
   "pygments_lexer": "ipython3",
   "version": "3.6.9"
  }
 },
 "nbformat": 4,
 "nbformat_minor": 4
}
