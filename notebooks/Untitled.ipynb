{
 "cells": [
  {
   "cell_type": "code",
   "execution_count": 16,
   "metadata": {},
   "outputs": [
    {
     "data": {
      "text/plain": [
       "False"
      ]
     },
     "execution_count": 16,
     "metadata": {},
     "output_type": "execute_result"
    }
   ],
   "source": [
    "all(np.ones([2,2]).sum(axis=1)==1)"
   ]
  },
  {
   "cell_type": "code",
   "execution_count": 566,
   "metadata": {},
   "outputs": [],
   "source": [
    "import numpy as np\n",
    "from scipy.stats import entropy\n",
    "\n",
    "class MarkovChain:\n",
    "    \n",
    "    '''\n",
    "    A MarkovChain\n",
    "    '''\n",
    "    \n",
    "    def __init__(self, transition_matrix=None, state_vector=None):\n",
    "        self.transition_matrix = transition_matrix\n",
    "        self.state_vector = state_vector\n",
    "\n",
    "    @property\n",
    "    def transition_matrix(self):\n",
    "        \n",
    "        '''\n",
    "        The Markov state transition probability matrix.\n",
    "        Needs to be square.\n",
    "        '''\n",
    "        \n",
    "        return self._transition_matrix\n",
    "        \n",
    "    @transition_matrix.setter\n",
    "    def transition_matrix(self, transition_matrix):\n",
    "        if transition_matrix:        \n",
    "            transition_matrix = np.array(transition_matrix)\n",
    "            assert transition_matrix.shape[0] == transition_matrix.shape[1], \\\n",
    "                'transition matrix needs to be square'\n",
    "            assert all(transition_matrix.sum(axis=1) == 1), \\\n",
    "                'transition matrix rows need to sum to one'\n",
    "            if hasattr(self, 'state_vector'):\n",
    "                assert transition_matrix.shape[0] == self.state_vector.shape[1], \\\n",
    "                    'state vector dimension mismatch'\n",
    "            self._transition_matrix = transition_matrix\n",
    "        else:\n",
    "            self._transition_matrix = None\n",
    "        \n",
    "    \n",
    "    @property\n",
    "    def state_vector(self):\n",
    "        \n",
    "        '''\n",
    "        The current state vector.\n",
    "        '''\n",
    "        \n",
    "        return self._state_vector\n",
    "    \n",
    "    @state_vector.setter\n",
    "    def state_vector(self, state_vector):\n",
    "        if state_vector:\n",
    "            state_vector = np.array(state_vector).reshape(1,-1)\n",
    "            assert state_vector.sum(axis=1) == 1, \\\n",
    "                'state vector needs to sum to one'\n",
    "            assert (state_vector>=0).all() and (state_vector<=1).all(), \\\n",
    "                'probabilites need to be bounded between zero and one'\n",
    "            if hasattr(self, 'transition_matrix'):\n",
    "                assert state_vector.shape[1] == self.transition_matrix.shape[0], \\\n",
    "                    'transition matrix dimension mismatch'\n",
    "            self._state_vector = state_vector\n",
    "        else:\n",
    "            self._state_vector = None\n",
    "    \n",
    "\n",
    "    def steady_state(self, set_state=False):\n",
    "        \n",
    "        '''\n",
    "        Returns the steady state probabilities of the Markov chain.\n",
    "        If set_state=True, MarkovChain object is modified in place.\n",
    "        '''\n",
    "        \n",
    "        dim = np.array(self.transition_matrix).shape[0]\n",
    "        q = np.c_[(self.transition_matrix-np.eye(dim)),np.ones(dim)]\n",
    "        QTQ = np.dot(q, q.T)\n",
    "        steady_state = np.linalg.solve(QTQ,np.ones(dim))\n",
    "        if set_state:\n",
    "            self.state_vector = steady_state\n",
    "        else:\n",
    "            return steady_state\n",
    "        \n",
    "        \n",
    "    @property\n",
    "    def expected_durations(self):\n",
    "        \n",
    "        '''\n",
    "        Returns the expected state durations of the MarkovChain object.\n",
    "        '''\n",
    "        \n",
    "        expected_durations = (np.ones(self.n_states)-np.diag(self.transition_matrix))**-1\n",
    "        return expected_durations\n",
    "    \n",
    "    \n",
    "    @property\n",
    "    def n_states(self):\n",
    "        \n",
    "        '''\n",
    "        Returns the number of states of the MarkovChain object.\n",
    "        '''\n",
    "        \n",
    "        return self.state_vector.shape[1]\n",
    "\n",
    "\n",
    "    def iterate(self, steps=1, set_state=False):\n",
    "        \n",
    "        '''\n",
    "        Iterates the MarkovChain object in place.\n",
    "        steps needs to be a positive integer.\n",
    "        (negative steps work, but tend to break before the initial state)\n",
    "        If set_state=True, MarkovChain object is modified in place.\n",
    "        '''\n",
    "        \n",
    "        new_state = np.dot(self.state_vector, np.linalg.matrix_power(self.transition_matrix, steps))\n",
    "        \n",
    "        # ensure total probability is 1\n",
    "        if new_state.sum() != 1:\n",
    "            new_state = new_state.round(16)/new_state.round(16).sum()\n",
    "        \n",
    "        if set_state:\n",
    "            self.state_vector = new_state\n",
    "        else:\n",
    "            return new_state\n",
    "        \n",
    "        \n",
    "    def forecast(self, horizons=[1]):\n",
    "        \n",
    "        '''\n",
    "        Returns forecasted state probabilities for a set of horizons.\n",
    "        horizons needs to be an iterable.\n",
    "        '''\n",
    "        \n",
    "        horizons_states = np.array([]).reshape(0, self.n_states)\n",
    "        for horizon in horizons:\n",
    "            pi_ = np.dot(self.state_vector, np.linalg.matrix_power(self.transition_matrix, horizon))\n",
    "            horizons_states = np.concatenate([horizons_states, pi_.reshape(1, self.n_states)], axis=0)\n",
    "        return horizons_states\n",
    "    \n",
    "\n",
    "    def rvs(self, t_steps=0, random_state=1):\n",
    "        \n",
    "        '''\n",
    "        Draws a random sample sequence from the MarkovChain object.\n",
    "        t_steps is the number of time steps forward to be drawn.\n",
    "        If t_steps is zero, only the current state is drawn.\n",
    "        '''\n",
    "        \n",
    "        sample = np.random.choice(mc.n_states, size=1, p=mc.state_vector.squeeze())\n",
    "        for t in range(1, t_steps+1):\n",
    "            sample = np.concatenate([sample, np.random.choice(mc.n_states, size=1, p=mc.transition_matrix[draw])])\n",
    "        return sample\n",
    "    \n",
    "    \n",
    "    def entropy(self, horizons=None):\n",
    "        \n",
    "        '''\n",
    "        Calculate Shannon's entropy of the n state probabilities based on logarithms with base n.\n",
    "        '''\n",
    "        \n",
    "        if horizons is None:\n",
    "            state_entropy = entropy(self.state_vector.squeeze(), base=self.n_states)\n",
    "        \n",
    "        else:\n",
    "            horizon_states = self.forecast(horizons)\n",
    "            state_entropy = []\n",
    "            for horizon in horizon_states:\n",
    "                state_entropy += [entropy(horizon.squeeze(), base=self.n_states)]\n",
    "            \n",
    "        return np.array(state_entropy)\n",
    "    "
   ]
  },
  {
   "cell_type": "code",
   "execution_count": 525,
   "metadata": {},
   "outputs": [
    {
     "data": {
      "text/plain": [
       "array([[0.65932796, 0.34067204],\n",
       "       [0.2       , 0.8       ],\n",
       "       [0.76948658, 0.23051342],\n",
       "       [0.95238095, 0.04761905],\n",
       "       [0.9523574 , 0.0476426 ],\n",
       "       [0.        , 1.        ]])"
      ]
     },
     "execution_count": 525,
     "metadata": {},
     "output_type": "execute_result"
    }
   ],
   "source": [
    "mc = MarkovChain(np.array([[0.99,0.01],[0.2,0.8]]),np.array([0,1]))\n",
    "mc.iterate(0)\n",
    "mc.state_vector\n",
    "mc.transition_matrix\n",
    "mc.forecast([5,1,7,123,45,0])"
   ]
  },
  {
   "cell_type": "code",
   "execution_count": 526,
   "metadata": {},
   "outputs": [
    {
     "data": {
      "text/plain": [
       "array(0.)"
      ]
     },
     "execution_count": 526,
     "metadata": {},
     "output_type": "execute_result"
    }
   ],
   "source": [
    "mc.entropy()"
   ]
  },
  {
   "cell_type": "code",
   "execution_count": 527,
   "metadata": {},
   "outputs": [
    {
     "data": {
      "text/plain": [
       "array([0, 1])"
      ]
     },
     "execution_count": 527,
     "metadata": {},
     "output_type": "execute_result"
    }
   ],
   "source": [
    "mc.state_vector.squeeze()"
   ]
  },
  {
   "cell_type": "code",
   "execution_count": 528,
   "metadata": {},
   "outputs": [
    {
     "data": {
      "text/plain": [
       "array(0.)"
      ]
     },
     "execution_count": 528,
     "metadata": {},
     "output_type": "execute_result"
    }
   ],
   "source": [
    "mc.entropy()"
   ]
  },
  {
   "cell_type": "code",
   "execution_count": 529,
   "metadata": {},
   "outputs": [
    {
     "data": {
      "text/plain": [
       "array([1, 1, 1, 1, 1, 1, 1, 0, 1, 1, 1, 1, 1, 0, 1, 0, 1, 0, 1, 1])"
      ]
     },
     "execution_count": 529,
     "metadata": {},
     "output_type": "execute_result"
    }
   ],
   "source": [
    "sample = np.random.choice(mc.n_states, size=1, p=mc.state_vector.squeeze())\n",
    "#sample = [draw]\n",
    "\n",
    "for t in range(1, 20):\n",
    "    sample = np.concatenate([sample, np.random.choice(mc.n_states, size=1, p=mc.transition_matrix[draw])])\n",
    "        \n",
    "sample"
   ]
  },
  {
   "cell_type": "code",
   "execution_count": 530,
   "metadata": {},
   "outputs": [
    {
     "data": {
      "text/plain": [
       "array([1, 1, 1, 0])"
      ]
     },
     "execution_count": 530,
     "metadata": {},
     "output_type": "execute_result"
    }
   ],
   "source": [
    "mc.rvs(3)"
   ]
  },
  {
   "cell_type": "code",
   "execution_count": 531,
   "metadata": {},
   "outputs": [
    {
     "data": {
      "text/plain": [
       "array([[0.95238095, 0.04761905]])"
      ]
     },
     "execution_count": 531,
     "metadata": {},
     "output_type": "execute_result"
    }
   ],
   "source": [
    "mc.steady_state(set_state=True)\n",
    "mc.state_vector"
   ]
  },
  {
   "cell_type": "code",
   "execution_count": 554,
   "metadata": {},
   "outputs": [
    {
     "data": {
      "text/plain": [
       "array([[0.95238095, 0.04761905]])"
      ]
     },
     "execution_count": 554,
     "metadata": {},
     "output_type": "execute_result"
    }
   ],
   "source": [
    "mc.iterate(10, set_state=True)\n",
    "mc.state_vector"
   ]
  },
  {
   "cell_type": "code",
   "execution_count": 567,
   "metadata": {},
   "outputs": [],
   "source": [
    "mc=MarkovChain()"
   ]
  },
  {
   "cell_type": "code",
   "execution_count": 562,
   "metadata": {},
   "outputs": [],
   "source": [
    "import pandas as pd\n",
    "import numpy as np\n",
    "import warnings\n",
    "\n",
    "from statsmodels.tsa.regime_switching.markov_regression import MarkovRegression\n",
    "from hmmlearn.hmm import GaussianHMM\n",
    "\n",
    "#from src.dists import GaussianMixtureDistribution\n",
    "#from src.markov import MarkovChain\n",
    "\n",
    "\n",
    "class HMM(MarkovChain):\n",
    "    def __init__(self, emission_models=(), transition_matrix=None, start_probas=None, switch_var=True, switch_const=True, k=None):\n",
    "        \n",
    "        '''\n",
    "        \n",
    "        '''\n",
    "\n",
    "        self.emission_models = emission_models\n",
    "        self.transition_matrix = transition_matrix\n",
    "        self.start_probas = start_probas\n",
    "        \n",
    "        self.switch_var = switch_var\n",
    "        self.switch_const = switch_const\n",
    "        self.k = k\n",
    "        \n",
    "        self.params_ = None\n",
    "        self.se_ = None\n",
    "        self.tstats_ = None\n",
    "\n",
    "        self.metrics_ = None\n",
    "        self.smooth_prob_ = None\n",
    "        self.filt_prob_ = None\n",
    "    \n",
    "    \n",
    "    def fit(self, y, package='baumwelch', start_params=None, iter=100, **kwargs):\n",
    "        \n",
    "        '''\n",
    "        Fits the Gaussian HMM to the series y.\n",
    "        '''\n",
    "        \n",
    "        assert package in ['statsmodels', 'hmmlearn', 'baumwelch'], 'package unknown'\n",
    "        \n",
    "        if package == 'statsmodels':\n",
    "            #if start_params is None:\n",
    "                #start_params = np.random.randn(self.k+self.k**2)*0.01\n",
    "                #m = y.mean()\n",
    "                #s = y.std()\n",
    "                #v = y.var()\n",
    "                #start_params = np.full(self.**2-self.k, 1/self.k).tolist()\\\n",
    "                #                        +(np.random.randn(self.k)*s/2+m).tolist()\\\n",
    "                #                        +(np.random.randn(self.k)*v+s).tolist()\n",
    "            model = MarkovRegression(endog=y, switching_variance=self.switch_var, switching_trend=self.switch_const, k_regimes=self.k)\\\n",
    "                                .fit(start_params=start_params, maxiter=iter, **kwargs)\n",
    "            self.params_ = model.params\n",
    "            self.se_ = model.bse\n",
    "            self.tstats_ = model.tvalues\n",
    "            self.metrics_ = pd.Series({'llf': model.llf, 'aic': model.aic, 'bic': model.bic,})\n",
    "            self.smooth_prob_ = model.smoothed_marginal_probabilities\n",
    "            self.filt_prob_ = model.filtered_marginal_probabilities\n",
    "        \n",
    "        if package == 'hmmlearn':\n",
    "\n",
    "            assert self.switch_var is True and self.switch_const is True, 'only implemented for fully parametrised components'\n",
    "            t_index = y.index\n",
    "            y = np.expand_dims(y.values, axis=1)\n",
    "            model = GaussianHMM(n_components=self.k, n_iter=iter, **kwargs).fit(y)\n",
    "            trans_probas = model.transmat_.T.reshape(self.k**2,1)[:self.k**2-self.k]\n",
    "            states = np.arange(self.k)\n",
    "            p_index=[f'p[{j}->{i}]' for i in states[:-1] for j in states]\\\n",
    "                        +[f'const[{i}]' for i in states]\\\n",
    "                        +[f'sigma2[{i}]' for i in states]\n",
    "            self.params_ = pd.Series(np.concatenate((trans_probas, model.means_, model.covars_.squeeze(axis=1))).squeeze(), index=p_index)\n",
    "            llf = model.score(y)\n",
    "            self.metrics_ = pd.Series({'llf': llf,\n",
    "                                       'aic': 2*len(self.params_)-2*llf,\n",
    "                                       'bic': len(self.params_)*np.log(len(y))-2*llf})\n",
    "            self.smooth_prob_ = pd.DataFrame(model.predict_proba(y), index=t_index)\n",
    "\n",
    "        if package == 'baumwelch':\n",
    "            self = self._estimate_baum_welch(np.array(y), max_iter=iter, **kwargs)\n",
    "\n",
    "        return self\n",
    "    \n",
    "    \n",
    "    @property\n",
    "    def estimates_(self):\n",
    "        estimates = pd.DataFrame({'estimate': self.params_,\n",
    "                                  's.e.': self.se_,\n",
    "                                  't-stat': self.tstats_})\n",
    "        return estimates\n",
    "    \n",
    "\n",
    "    @property\n",
    "    def transition_matrix_(self):\n",
    "        k = self.k\n",
    "        trans_matrix = np.matrix(self.params_[:k**2-k].values.reshape(k-1, k).T)\n",
    "        trans_matrix = np.append(trans_matrix, 1-trans_matrix.sum(axis=1), axis=1)\n",
    "        return trans_matrix\n",
    "\n",
    "\n",
    "    @property\n",
    "    def steady_state_(self):\n",
    "        mc = MarkovChain(transition_matrix=self.transition_matrix_)\n",
    "        steady = mc.steady_state_probabilities\n",
    "        return steady\n",
    "\n",
    "\n",
    "    def get_mixture_distribution(self, state='steady_state'):\n",
    "        if state == 'steady_state':\n",
    "            probas = self.steady_state_\n",
    "        elif state == 'latest':\n",
    "            probas = self.filt_prob_.iloc[-1]\n",
    "        else:\n",
    "            assert len(state) == self.k, 'wrong number of state probabilities'\n",
    "            probas = state\n",
    "\n",
    "        components = [(self.params_[f'const[{i}]'], self.params_[f'sigma2[{i}]']**0.5, probas[i]) for i in range(self.k)]\n",
    "        mix = GaussianMixtureDistribution(components=components)\n",
    "        return mix\n",
    "\n",
    "\n",
    "    def filtered_moments(self):\n",
    "        filt_mom = pd.DataFrame(index=self.filt_prob_.index, columns=['mean','var','skew','kurt','entropy'])\n",
    "        for date, probas in self.filt_prob_.iterrows():\n",
    "            mix = self.get_mixture_distribution(state=probas.values)\n",
    "            filt_mom.loc[date] = [*mix.mvsk(), mix.entropy()]\n",
    "\n",
    "        return filt_mom\n",
    "\n",
    "\n",
    "    def smoothened_moments(self):\n",
    "        smooth_mom = pd.DataFrame(index=self.smooth_prob_.index, columns=['mean','var','skew','kurt','entropy'])\n",
    "        for date, probas in self.smooth_prob_.iterrows():\n",
    "            mix = self.get_mixture_distribution(state=probas.values)\n",
    "            smooth_mom.loc[date] = [*mix.mvsk(), mix.entropy()]\n",
    "        return smooth_mom\n",
    "        \n",
    "\n",
    "    def _check(self, A, pi, models):\n",
    "        '''OK'''\n",
    "        assert len(models) == A.shape[0] == A.shape[1] == pi.shape[1], 'dimension mismatch'\n",
    "    \n",
    "    @property\n",
    "    def steady_state(self):\n",
    "        '''FIX'''\n",
    "        k = self.transition_matrix.shape[0]\n",
    "        steady_state = np.full(k, 1/k).reshape(1, -1) @ self.transition_matrix\n",
    "        return steady_state\n",
    "        \n",
    "    def _initialise_baum_welch(self, Y):\n",
    "        '''FIX'''\n",
    "        if self.start_probas is None:\n",
    "            self.start_probas = self.steady_state\n",
    "        \n",
    "        A = np.array(self.transition_matrix)\n",
    "        models = self.emission_models\n",
    "        pi = np.array(self.start_probas).reshape(1, -1)\n",
    "        return A, pi, models\n",
    "    \n",
    "    def _evaluate_emission_models(self, Y, emission_models):\n",
    "        '''OK'''\n",
    "        B = np.concatenate([model.pdf(Y).reshape(-1, 1) for model in emission_models], axis=1)\n",
    "        return B\n",
    "        \n",
    "    def _forward_pass(self, A, B, pi):\n",
    "        '''OK'''\n",
    "        # initialise forward pass with first observation\n",
    "        alpha_0 = pi * B[0]\n",
    "        c_0 = 1/alpha_0.sum()\n",
    "        \n",
    "        # save values & scaling factor\n",
    "        Alpha = alpha_0*c_0\n",
    "        C = [c_0]\n",
    "        \n",
    "        # iterate\n",
    "        for b_t in B[1:]:\n",
    "            # calculate\n",
    "            alpha_t = (b_t * Alpha[-1] @ A).reshape(1, -1)\n",
    "            c_t = 1/alpha_t.sum()\n",
    "            \n",
    "            # save\n",
    "            Alpha = np.concatenate((Alpha, alpha_t*c_t), axis=0)\n",
    "            C += [c_t]\n",
    "            \n",
    "        C = np.array(C).reshape(-1, 1)\n",
    "        return Alpha, C\n",
    "            \n",
    "    def _backward_pass(self, A, B, pi, C):\n",
    "        '''OK'''\n",
    "        # initialise backward pass as one\n",
    "        beta_T = np.ones(pi.shape)\n",
    "        \n",
    "        # save values & scaling factor\n",
    "        Beta = beta_T*C[-1]\n",
    "        \n",
    "        # iterate\n",
    "        for b_t, c_t in zip(B[:0:-1],C[len(C)-2::-1]):\n",
    "            # calculate\n",
    "            beta_t = (b_t * Beta[0] @ A.T).reshape(1, -1)\n",
    "            \n",
    "            # save\n",
    "            Beta = np.concatenate((beta_t*c_t, Beta), axis=0)\n",
    "            \n",
    "        return Beta\n",
    "    \n",
    "    def _emission_odds(self, Alpha, Beta):\n",
    "        '''OK'''\n",
    "        total = Alpha * Beta\n",
    "        Gamma = total/total.sum(axis=1).reshape(-1, 1)\n",
    "        return Gamma\n",
    "    \n",
    "    def _transition_odds(self, A, B, Alpha, Beta):\n",
    "        '''OK'''\n",
    "        Alpha_block = np.kron(Alpha[:-1], np.ones(A.shape[0]))\n",
    "        B_Beta_block = np.kron(np.ones(A.shape[0]), B[1:]*Beta[1:])\n",
    "        total = Alpha_block * B_Beta_block * A.reshape(1, -1)\n",
    "        Xi = total/total.sum(axis=1).reshape(-1, 1)\n",
    "        return Xi\n",
    "        \n",
    "    def _do_e_step(self, Y, A, B, pi):\n",
    "        '''OK'''\n",
    "        Alpha, C = self._forward_pass(A, B, pi)\n",
    "        Beta = self._backward_pass(A, B, pi, C)\n",
    "        Gamma = self._emission_odds(Alpha, Beta)\n",
    "        Xi = self._transition_odds(A, B, Alpha, Beta)\n",
    "        return Alpha, Gamma, Xi\n",
    "    \n",
    "    def _update_transition_matrix(self, Gamma, Xi):\n",
    "        '''OK'''\n",
    "        numerator = Xi.sum(axis=0)\n",
    "        denominator = np.kron(Gamma[:-1], np.ones(Gamma.shape[1])).sum(axis=0)\n",
    "        A_ = (numerator/denominator).reshape(Gamma.shape[1], Gamma.shape[1])\n",
    "        return A_\n",
    "    \n",
    "    def _update_parameters(self, Y, emission_models, Gamma):\n",
    "        '''OK'''\n",
    "        models_ = []\n",
    "        for model, weights in zip(emission_models, Gamma.T):\n",
    "            model.fit(Y, weights)\n",
    "            models_ += [model]\n",
    "        return tuple(models_)\n",
    "    \n",
    "    def _update_initial_state(self, Gamma):\n",
    "        '''OK'''\n",
    "        return Gamma[0].reshape(1, -1)\n",
    "    \n",
    "    def _do_m_step(self, Y, models, Gamma, Xi):\n",
    "        '''OK'''\n",
    "        A_ = self._update_transition_matrix(Gamma, Xi)\n",
    "        models_ = self._update_parameters(Y, models, Gamma)\n",
    "        pi_ = self._update_initial_state(Gamma)\n",
    "        return A_, models_, pi_\n",
    "    \n",
    "    def _score(self, Y, emission_models, Gamma):\n",
    "        '''OK'''\n",
    "        B = self._evaluate_emission_models(Y, emission_models)\n",
    "        score = np.log((B * Gamma).sum(axis=1)).sum(axis=0)\n",
    "        return score, B\n",
    "    \n",
    "    def _update_attributes(self, A_, models_, pi_, Gamma, Alpha):\n",
    "        '''OK'''\n",
    "        self.transition_matrix = A_\n",
    "        self.emission_models = models_\n",
    "        self.start_probas = pi_\n",
    "        self.smooth_prob_ = Gamma\n",
    "        self.filt_prob_ = Alpha\n",
    "    \n",
    "    def _estimate_baum_welch(self, Y, max_iter=100, threshold=1e-6):\n",
    "        '''OK'''\n",
    "        # initialise\n",
    "        A_, pi_, models_ = self._initialise_baum_welch(Y)\n",
    "        self._check(A_, pi_, models_)\n",
    "        score_, B_ = self._score(Y, models_, pi_)\n",
    "        \n",
    "        # store\n",
    "        iteration = 0\n",
    "        scores = {iteration: score_}\n",
    "        \n",
    "        while iteration < max_iter:\n",
    "            iteration += 1\n",
    "            Alpha, Gamma, Xi = self._do_e_step(Y, A_, B_, pi_)            \n",
    "            A_, models_, pi_ = self._do_m_step(Y, models_, Gamma, Xi)\n",
    "            score_, B_ = self._score(Y, models_, Gamma)\n",
    "            scores[iteration] = score_\n",
    "            \n",
    "            if abs(scores[iteration]-scores[iteration-1]) < threshold:\n",
    "                break\n",
    "        else:\n",
    "            warnings.warn('maximum number of iterations reached')\n",
    "                \n",
    "        self._update_attributes(A_, models_, pi_, Gamma, Alpha)\n",
    "        self.convergence_ = scores\n",
    "        \n",
    "        return self\n",
    "            \n",
    "    # def fit(self, Y, method='baumwelch', **kwargs):\n",
    "    #     '''OK'''\n",
    "    #     assert method in ['baumwelch'], 'method unknown'\n",
    "        \n",
    "    #     if method == 'baumwelch':\n",
    "    #         self = self._estimate_baum_welch(Y, **kwargs)"
   ]
  },
  {
   "cell_type": "code",
   "execution_count": 568,
   "metadata": {},
   "outputs": [],
   "source": [
    "hmm = HMM(transition_matrix=np.array([[0.99,0.01],[0.2,0.8]]))#, state_vector=np.array([0,1]))"
   ]
  },
  {
   "cell_type": "code",
   "execution_count": 569,
   "metadata": {},
   "outputs": [
    {
     "data": {
      "text/plain": [
       "<property at 0x7fb7461a2408>"
      ]
     },
     "execution_count": 569,
     "metadata": {},
     "output_type": "execute_result"
    }
   ],
   "source": [
    "HMM.transition_matrix"
   ]
  },
  {
   "cell_type": "code",
   "execution_count": null,
   "metadata": {},
   "outputs": [],
   "source": []
  },
  {
   "cell_type": "code",
   "execution_count": null,
   "metadata": {},
   "outputs": [],
   "source": []
  },
  {
   "cell_type": "code",
   "execution_count": null,
   "metadata": {},
   "outputs": [],
   "source": []
  },
  {
   "cell_type": "code",
   "execution_count": null,
   "metadata": {},
   "outputs": [],
   "source": []
  }
 ],
 "metadata": {
  "kernelspec": {
   "display_name": "Python 3",
   "language": "python",
   "name": "python3"
  },
  "language_info": {
   "codemirror_mode": {
    "name": "ipython",
    "version": 3
   },
   "file_extension": ".py",
   "mimetype": "text/x-python",
   "name": "python",
   "nbconvert_exporter": "python",
   "pygments_lexer": "ipython3",
   "version": "3.6.9"
  }
 },
 "nbformat": 4,
 "nbformat_minor": 4
}
