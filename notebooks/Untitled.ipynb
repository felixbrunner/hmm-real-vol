{
 "cells": [
  {
   "cell_type": "code",
   "execution_count": 16,
   "metadata": {},
   "outputs": [
    {
     "data": {
      "text/plain": [
       "False"
      ]
     },
     "execution_count": 16,
     "metadata": {},
     "output_type": "execute_result"
    }
   ],
   "source": [
    "all(np.ones([2,2]).sum(axis=1)==1)"
   ]
  },
  {
   "cell_type": "code",
   "execution_count": 426,
   "metadata": {},
   "outputs": [],
   "source": [
    "import numpy as np\n",
    "from scipy.stats import entropy\n",
    "\n",
    "class MarkovChain:\n",
    "    \n",
    "    '''\n",
    "    A MarkovChain\n",
    "    '''\n",
    "    \n",
    "    def __init__(self, transition_matrix=None, state_vector=None):\n",
    "        self.transition_matrix = transition_matrix\n",
    "        self.state_vector = state_vector\n",
    "\n",
    "    @property\n",
    "    def transition_matrix(self):\n",
    "        \n",
    "        '''\n",
    "        The Markov state transition probability matrix.\n",
    "        Needs to be square.\n",
    "        '''\n",
    "        \n",
    "        return self._transition_matrix\n",
    "        \n",
    "    @transition_matrix.setter\n",
    "    def transition_matrix(self, transition_matrix):\n",
    "        transition_matrix = np.array(transition_matrix)\n",
    "        assert transition_matrix.shape[0] == transition_matrix.shape[1], \\\n",
    "            'transition matrix needs to be square'\n",
    "        assert all(transition_matrix.sum(axis=1) == 1), \\\n",
    "            'transition matrix rows need to sum to one'\n",
    "        if hasattr(self, 'state_vector'):\n",
    "            assert transition_matrix.shape[0] == self.state_vector.shape[1], \\\n",
    "                'state vector dimension mismatch'\n",
    "        self._transition_matrix = transition_matrix\n",
    "        \n",
    "    \n",
    "    @property\n",
    "    def state_vector(self):\n",
    "        \n",
    "        '''\n",
    "        The current state vector.\n",
    "        '''\n",
    "        \n",
    "        return self._state_vector\n",
    "    \n",
    "    @state_vector.setter\n",
    "    def state_vector(self, state_vector):\n",
    "        state_vector = np.array(state_vector).reshape(1,-1)\n",
    "        assert state_vector.sum(axis=1) == 1, \\\n",
    "            'state vector needs to sum to one'\n",
    "        assert (state_vector>=0).all() and (state_vector<=1).all(), \\\n",
    "            'probabilites need to be bounded between zero and one'\n",
    "        if hasattr(self, 'transition_matrix'):\n",
    "            assert state_vector.shape[1] == self.transition_matrix.shape[0], \\\n",
    "                'transition matrix dimension mismatch'\n",
    "        self._state_vector = state_vector\n",
    "    \n",
    "\n",
    "    def steady_state(self, set_state=False):\n",
    "        \n",
    "        '''\n",
    "        Returns the steady state probabilities of the Markov chain.\n",
    "        If set_state=True, MarkovChain object is modified in place.\n",
    "        '''\n",
    "        \n",
    "        dim = np.array(self.transition_matrix).shape[0]\n",
    "        q = np.c_[(self.transition_matrix-np.eye(dim)),np.ones(dim)]\n",
    "        QTQ = np.dot(q, q.T)\n",
    "        steady_state = np.linalg.solve(QTQ,np.ones(dim))\n",
    "        if set_state:\n",
    "            self.state_vector = steady_state\n",
    "        else:\n",
    "            return steady_state\n",
    "        \n",
    "        \n",
    "    @property\n",
    "    def expected_durations(self):\n",
    "        \n",
    "        '''\n",
    "        Returns the expected state durations of the MarkovChain object.\n",
    "        '''\n",
    "        \n",
    "        expected_durations = (np.ones(self.n_states)-np.diag(self.transition_matrix))**-1\n",
    "        return expected_durations\n",
    "    \n",
    "    \n",
    "    @property\n",
    "    def n_states(self):\n",
    "        \n",
    "        '''\n",
    "        Returns the number of states of the MarkovChain object.\n",
    "        '''\n",
    "        \n",
    "        return self.state_vector.shape[1]\n",
    "\n",
    "\n",
    "    def iterate(self, steps=1, set_state=False):\n",
    "        \n",
    "        '''\n",
    "        Iterates the MarkovChain object in place.\n",
    "        steps needs to be a positive integer.\n",
    "        (negative steps work, but tend to break before the initial state)\n",
    "        If set_state=True, MarkovChain object is modified in place.\n",
    "        '''\n",
    "        \n",
    "        new_state = np.dot(self.state_vector, np.linalg.matrix_power(self.transition_matrix, steps))\n",
    "        \n",
    "        # ensure total probability is 1\n",
    "        if new_state.sum() != 1:\n",
    "            new_state = new_state/new_state.sum()        \n",
    "        \n",
    "        if set_state:\n",
    "            self.state_vector = new_state\n",
    "        else:\n",
    "            return new_state\n",
    "        \n",
    "        \n",
    "    def forecast(self, horizons=[1]):\n",
    "        \n",
    "        '''\n",
    "        Returns forecasted state probabilities for a set of horizons.\n",
    "        horizons needs to be an iterable.\n",
    "        '''\n",
    "        \n",
    "        horizons_states = np.array([]).reshape(0, self.n_states)\n",
    "        for horizon in horizons:\n",
    "            pi_ = np.dot(self.state_vector, np.linalg.matrix_power(self.transition_matrix, horizon))\n",
    "            horizons_states = np.concatenate([horizons_states, pi_.reshape(1, self.n_states)], axis=0)\n",
    "        return horizons_states\n",
    "    \n",
    "\n",
    "    def rvs(self, t_steps=0, random_state=1):\n",
    "        \n",
    "        '''\n",
    "        Draws a random sample sequence from the MarkovChain object.\n",
    "        t_steps is the number of time steps forward to be drawn.\n",
    "        If t_steps is zero, only the current state is drawn.\n",
    "        '''\n",
    "        \n",
    "        sample = np.random.choice(mc.n_states, size=1, p=mc.state_vector.squeeze())\n",
    "        for t in range(1, t_steps+1):\n",
    "            sample = np.concatenate([sample, np.random.choice(mc.n_states, size=1, p=mc.transition_matrix[draw])])\n",
    "        return sample\n",
    "    \n",
    "    \n",
    "    def entropy(self, horizons=None):\n",
    "        \n",
    "        '''\n",
    "        Calculate Shannon's entropy of the n state probabilities based on logarithms with base n.\n",
    "        '''\n",
    "        \n",
    "        if horizons is None:\n",
    "            state_entropy = entropy(self.state_vector.squeeze(), base=self.n_states)\n",
    "        \n",
    "        else:\n",
    "            horizon_states = self.forecast(horizons)\n",
    "            state_entropy = []\n",
    "            for horizon in horizon_states:\n",
    "                state_entropy += [entropy(horizon.squeeze(), base=self.n_states)]\n",
    "            \n",
    "        return np.array(state_entropy)\n",
    "    "
   ]
  },
  {
   "cell_type": "code",
   "execution_count": 424,
   "metadata": {},
   "outputs": [
    {
     "data": {
      "text/plain": [
       "array([[0.71255   , 0.28745   ],\n",
       "       [0.5       , 0.5       ],\n",
       "       [0.7141295 , 0.2858705 ],\n",
       "       [0.71428571, 0.28571429],\n",
       "       [0.71428571, 0.28571429],\n",
       "       [0.        , 1.        ]])"
      ]
     },
     "execution_count": 424,
     "metadata": {},
     "output_type": "execute_result"
    }
   ],
   "source": [
    "mc = MarkovChain(np.array([[0.8,0.2],[0.5,0.5]]),np.array([0,1]))\n",
    "mc.iterate(0)\n",
    "mc.state_vector\n",
    "mc.transition_matrix\n",
    "mc.forecast([5,1,7,123,45,0])"
   ]
  },
  {
   "cell_type": "code",
   "execution_count": 425,
   "metadata": {},
   "outputs": [
    {
     "data": {
      "text/plain": [
       "array(0.)"
      ]
     },
     "execution_count": 425,
     "metadata": {},
     "output_type": "execute_result"
    }
   ],
   "source": [
    "mc.entropy()"
   ]
  },
  {
   "cell_type": "code",
   "execution_count": 369,
   "metadata": {},
   "outputs": [
    {
     "data": {
      "text/plain": [
       "0.8812908992306927"
      ]
     },
     "execution_count": 369,
     "metadata": {},
     "output_type": "execute_result"
    }
   ],
   "source": [
    "import scipy.stats as stats\n",
    "stats.entropy(mc.state_vector.squeeze(), base=2)"
   ]
  },
  {
   "cell_type": "code",
   "execution_count": 313,
   "metadata": {},
   "outputs": [
    {
     "data": {
      "text/plain": [
       "array([0.3, 0.7])"
      ]
     },
     "execution_count": 313,
     "metadata": {},
     "output_type": "execute_result"
    }
   ],
   "source": [
    "mc.state_vector.squeeze()"
   ]
  },
  {
   "cell_type": "code",
   "execution_count": 316,
   "metadata": {},
   "outputs": [
    {
     "data": {
      "text/plain": [
       "0.8812908992306927"
      ]
     },
     "execution_count": 316,
     "metadata": {},
     "output_type": "execute_result"
    }
   ],
   "source": [
    "mc.entropy()"
   ]
  },
  {
   "cell_type": "code",
   "execution_count": 350,
   "metadata": {},
   "outputs": [
    {
     "data": {
      "text/plain": [
       "array([1, 1, 1])"
      ]
     },
     "execution_count": 350,
     "metadata": {},
     "output_type": "execute_result"
    }
   ],
   "source": [
    "sample = np.random.choice(mc.n_states, size=1, p=mc.state_vector.squeeze())\n",
    "#sample = [draw]\n",
    "\n",
    "for t in range(1, 3):\n",
    "    sample = np.concatenate([sample, np.random.choice(mc.n_states, size=1, p=mc.transition_matrix[draw])])\n",
    "        \n",
    "sample"
   ]
  },
  {
   "cell_type": "code",
   "execution_count": 359,
   "metadata": {},
   "outputs": [
    {
     "data": {
      "text/plain": [
       "array([0, 1, 1, 1])"
      ]
     },
     "execution_count": 359,
     "metadata": {},
     "output_type": "execute_result"
    }
   ],
   "source": [
    "mc.rvs(3)"
   ]
  },
  {
   "cell_type": "code",
   "execution_count": 142,
   "metadata": {},
   "outputs": [
    {
     "data": {
      "text/plain": [
       "array([[0.6, 0.4]])"
      ]
     },
     "execution_count": 142,
     "metadata": {},
     "output_type": "execute_result"
    }
   ],
   "source": [
    "mc.steady_state(set_state=True)\n",
    "mc.state_vector"
   ]
  },
  {
   "cell_type": "code",
   "execution_count": 300,
   "metadata": {},
   "outputs": [
    {
     "ename": "AssertionError",
     "evalue": "probabilites need to be bounded between zero and one",
     "output_type": "error",
     "traceback": [
      "\u001b[0;31m---------------------------------------------------------------------------\u001b[0m",
      "\u001b[0;31mAssertionError\u001b[0m                            Traceback (most recent call last)",
      "\u001b[0;32m<ipython-input-300-327bf2414e54>\u001b[0m in \u001b[0;36m<module>\u001b[0;34m\u001b[0m\n\u001b[0;32m----> 1\u001b[0;31m \u001b[0mmc\u001b[0m\u001b[0;34m.\u001b[0m\u001b[0miterate\u001b[0m\u001b[0;34m(\u001b[0m\u001b[0;34m-\u001b[0m\u001b[0;36m10\u001b[0m\u001b[0;34m,\u001b[0m \u001b[0mset_state\u001b[0m\u001b[0;34m=\u001b[0m\u001b[0;32mTrue\u001b[0m\u001b[0;34m)\u001b[0m\u001b[0;34m\u001b[0m\u001b[0;34m\u001b[0m\u001b[0m\n\u001b[0m\u001b[1;32m      2\u001b[0m \u001b[0mmc\u001b[0m\u001b[0;34m.\u001b[0m\u001b[0mstate_vector\u001b[0m\u001b[0;34m\u001b[0m\u001b[0;34m\u001b[0m\u001b[0m\n",
      "\u001b[0;32m<ipython-input-275-8aaec1ce4b48>\u001b[0m in \u001b[0;36miterate\u001b[0;34m(self, steps, set_state)\u001b[0m\n\u001b[1;32m    110\u001b[0m \u001b[0;34m\u001b[0m\u001b[0m\n\u001b[1;32m    111\u001b[0m         \u001b[0;32mif\u001b[0m \u001b[0mset_state\u001b[0m\u001b[0;34m:\u001b[0m\u001b[0;34m\u001b[0m\u001b[0;34m\u001b[0m\u001b[0m\n\u001b[0;32m--> 112\u001b[0;31m             \u001b[0mself\u001b[0m\u001b[0;34m.\u001b[0m\u001b[0mstate_vector\u001b[0m \u001b[0;34m=\u001b[0m \u001b[0mnew_state\u001b[0m\u001b[0;34m\u001b[0m\u001b[0;34m\u001b[0m\u001b[0m\n\u001b[0m\u001b[1;32m    113\u001b[0m         \u001b[0;32melse\u001b[0m\u001b[0;34m:\u001b[0m\u001b[0;34m\u001b[0m\u001b[0;34m\u001b[0m\u001b[0m\n\u001b[1;32m    114\u001b[0m             \u001b[0;32mreturn\u001b[0m \u001b[0mnew_state\u001b[0m\u001b[0;34m\u001b[0m\u001b[0;34m\u001b[0m\u001b[0m\n",
      "\u001b[0;32m<ipython-input-275-8aaec1ce4b48>\u001b[0m in \u001b[0;36mstate_vector\u001b[0;34m(self, state_vector)\u001b[0m\n\u001b[1;32m     49\u001b[0m             \u001b[0;34m'state vector needs to sum to one'\u001b[0m\u001b[0;34m\u001b[0m\u001b[0;34m\u001b[0m\u001b[0m\n\u001b[1;32m     50\u001b[0m         \u001b[0;32massert\u001b[0m \u001b[0;34m(\u001b[0m\u001b[0mstate_vector\u001b[0m\u001b[0;34m>=\u001b[0m\u001b[0;36m0\u001b[0m\u001b[0;34m)\u001b[0m\u001b[0;34m.\u001b[0m\u001b[0mall\u001b[0m\u001b[0;34m(\u001b[0m\u001b[0;34m)\u001b[0m \u001b[0;32mand\u001b[0m \u001b[0;34m(\u001b[0m\u001b[0mstate_vector\u001b[0m\u001b[0;34m<=\u001b[0m\u001b[0;36m1\u001b[0m\u001b[0;34m)\u001b[0m\u001b[0;34m.\u001b[0m\u001b[0mall\u001b[0m\u001b[0;34m(\u001b[0m\u001b[0;34m)\u001b[0m\u001b[0;34m,\u001b[0m\u001b[0;31m \u001b[0m\u001b[0;31m\\\u001b[0m\u001b[0;34m\u001b[0m\u001b[0;34m\u001b[0m\u001b[0m\n\u001b[0;32m---> 51\u001b[0;31m             \u001b[0;34m'probabilites need to be bounded between zero and one'\u001b[0m\u001b[0;34m\u001b[0m\u001b[0;34m\u001b[0m\u001b[0m\n\u001b[0m\u001b[1;32m     52\u001b[0m         \u001b[0;32mif\u001b[0m \u001b[0mhasattr\u001b[0m\u001b[0;34m(\u001b[0m\u001b[0mself\u001b[0m\u001b[0;34m,\u001b[0m \u001b[0;34m'transition_matrix'\u001b[0m\u001b[0;34m)\u001b[0m\u001b[0;34m:\u001b[0m\u001b[0;34m\u001b[0m\u001b[0;34m\u001b[0m\u001b[0m\n\u001b[1;32m     53\u001b[0m             \u001b[0;32massert\u001b[0m \u001b[0mstate_vector\u001b[0m\u001b[0;34m.\u001b[0m\u001b[0mshape\u001b[0m\u001b[0;34m[\u001b[0m\u001b[0;36m1\u001b[0m\u001b[0;34m]\u001b[0m \u001b[0;34m==\u001b[0m \u001b[0mself\u001b[0m\u001b[0;34m.\u001b[0m\u001b[0mtransition_matrix\u001b[0m\u001b[0;34m.\u001b[0m\u001b[0mshape\u001b[0m\u001b[0;34m[\u001b[0m\u001b[0;36m0\u001b[0m\u001b[0;34m]\u001b[0m\u001b[0;34m,\u001b[0m\u001b[0;31m \u001b[0m\u001b[0;31m\\\u001b[0m\u001b[0;34m\u001b[0m\u001b[0;34m\u001b[0m\u001b[0m\n",
      "\u001b[0;31mAssertionError\u001b[0m: probabilites need to be bounded between zero and one"
     ]
    }
   ],
   "source": [
    "mc.iterate(-10, set_state=True)\n",
    "mc.state_vector"
   ]
  },
  {
   "cell_type": "code",
   "execution_count": 283,
   "metadata": {},
   "outputs": [
    {
     "data": {
      "text/plain": [
       "array([], shape=(0, 1), dtype=float64)"
      ]
     },
     "execution_count": 283,
     "metadata": {},
     "output_type": "execute_result"
    }
   ],
   "source": [
    "np.array([]).reshape(0,mc.n_states)"
   ]
  },
  {
   "cell_type": "code",
   "execution_count": null,
   "metadata": {},
   "outputs": [],
   "source": []
  },
  {
   "cell_type": "code",
   "execution_count": 75,
   "metadata": {},
   "outputs": [
    {
     "ename": "TypeError",
     "evalue": "'int' object is not iterable",
     "output_type": "error",
     "traceback": [
      "\u001b[0;31m---------------------------------------------------------------------------\u001b[0m",
      "\u001b[0;31mTypeError\u001b[0m                                 Traceback (most recent call last)",
      "\u001b[0;32m<ipython-input-75-7ade7017386b>\u001b[0m in \u001b[0;36m<module>\u001b[0;34m\u001b[0m\n\u001b[0;32m----> 1\u001b[0;31m \u001b[0mlist\u001b[0m\u001b[0;34m(\u001b[0m\u001b[0;36m1\u001b[0m\u001b[0;34m)\u001b[0m\u001b[0;34m\u001b[0m\u001b[0;34m\u001b[0m\u001b[0m\n\u001b[0m",
      "\u001b[0;31mTypeError\u001b[0m: 'int' object is not iterable"
     ]
    }
   ],
   "source": [
    "list(1)"
   ]
  },
  {
   "cell_type": "code",
   "execution_count": null,
   "metadata": {},
   "outputs": [],
   "source": []
  }
 ],
 "metadata": {
  "kernelspec": {
   "display_name": "Python 3",
   "language": "python",
   "name": "python3"
  },
  "language_info": {
   "codemirror_mode": {
    "name": "ipython",
    "version": 3
   },
   "file_extension": ".py",
   "mimetype": "text/x-python",
   "name": "python",
   "nbconvert_exporter": "python",
   "pygments_lexer": "ipython3",
   "version": "3.6.9"
  }
 },
 "nbformat": 4,
 "nbformat_minor": 4
}
