{
 "cells": [
  {
   "cell_type": "code",
   "execution_count": 1,
   "metadata": {
    "scrolled": true
   },
   "outputs": [],
   "source": [
    "%load_ext autoreload\n",
    "%autoreload 2\n",
    "\n",
    "import numpy as np\n",
    "import warnings\n",
    "from scipy.stats import norm\n",
    "\n",
    "import sys\n",
    "sys.path.append('../')\n",
    "import src as src"
   ]
  },
  {
   "cell_type": "code",
   "execution_count": 2,
   "metadata": {},
   "outputs": [],
   "source": [
    "import scipy as sp\n",
    "import pandas as pd"
   ]
  },
  {
   "cell_type": "markdown",
   "metadata": {},
   "source": [
    "## Markov Chains"
   ]
  },
  {
   "cell_type": "code",
   "execution_count": 3,
   "metadata": {
    "scrolled": true
   },
   "outputs": [
    {
     "data": {
      "text/plain": [
       "array([[0.72086909, 0.27913091],\n",
       "       [0.358     , 0.642     ],\n",
       "       [0.8078944 , 0.1921056 ],\n",
       "       [0.95238095, 0.04761905],\n",
       "       [0.95236235, 0.04763765],\n",
       "       [0.2       , 0.8       ]])"
      ]
     },
     "execution_count": 3,
     "metadata": {},
     "output_type": "execute_result"
    }
   ],
   "source": [
    "mc = src.MarkovChain(np.array([[0.99,0.01],[0.2,0.8]]),np.array([0,1]))\n",
    "mc.iterate(1, set_state=True)\n",
    "mc.state_vector\n",
    "mc.transition_matrix\n",
    "mc.forecast([5,1,7,123,45,0])"
   ]
  },
  {
   "cell_type": "code",
   "execution_count": 4,
   "metadata": {},
   "outputs": [
    {
     "name": "stderr",
     "output_type": "stream",
     "text": [
      "../src/markov.py:122: UserWarning: state vector probabilities rounded to 8 digits\n",
      "  warnings.warn('state vector probabilities rounded to 8 digits')\n"
     ]
    },
    {
     "data": {
      "text/plain": [
       "<src.markov.MarkovChain at 0x7f5784549358>"
      ]
     },
     "execution_count": 4,
     "metadata": {},
     "output_type": "execute_result"
    }
   ],
   "source": [
    "mc.iterate(2)"
   ]
  },
  {
   "cell_type": "code",
   "execution_count": 5,
   "metadata": {},
   "outputs": [
    {
     "data": {
      "text/plain": [
       "array([0.95238095, 0.04761905])"
      ]
     },
     "execution_count": 5,
     "metadata": {},
     "output_type": "execute_result"
    }
   ],
   "source": [
    "mc.steady_state()"
   ]
  },
  {
   "cell_type": "code",
   "execution_count": 6,
   "metadata": {},
   "outputs": [
    {
     "data": {
      "text/plain": [
       "array([100.,   5.])"
      ]
     },
     "execution_count": 6,
     "metadata": {},
     "output_type": "execute_result"
    }
   ],
   "source": [
    "mc.expected_durations()"
   ]
  },
  {
   "cell_type": "code",
   "execution_count": 7,
   "metadata": {},
   "outputs": [
    {
     "data": {
      "text/plain": [
       "array(0.72192809)"
      ]
     },
     "execution_count": 7,
     "metadata": {},
     "output_type": "execute_result"
    }
   ],
   "source": [
    "mc.entropy()"
   ]
  },
  {
   "cell_type": "markdown",
   "metadata": {},
   "source": [
    "## Distributions"
   ]
  },
  {
   "cell_type": "code",
   "execution_count": 8,
   "metadata": {},
   "outputs": [],
   "source": [
    "fac1 = src.NormalDistribution(1.1, 2)\n",
    "fac2 = src.NormalDistribution(1.1, 5)\n",
    "factors = [fac1, fac2]"
   ]
  },
  {
   "cell_type": "code",
   "execution_count": 9,
   "metadata": {},
   "outputs": [
    {
     "data": {
      "text/plain": [
       "True"
      ]
     },
     "execution_count": 9,
     "metadata": {},
     "output_type": "execute_result"
    }
   ],
   "source": [
    "isinstance(fac1, src.BaseDistribution)"
   ]
  },
  {
   "cell_type": "code",
   "execution_count": 10,
   "metadata": {},
   "outputs": [
    {
     "data": {
      "text/plain": [
       "True"
      ]
     },
     "execution_count": 10,
     "metadata": {},
     "output_type": "execute_result"
    }
   ],
   "source": [
    "isinstance(fac1, src.NormalDistribution)"
   ]
  },
  {
   "cell_type": "code",
   "execution_count": 11,
   "metadata": {
    "scrolled": false
   },
   "outputs": [
    {
     "data": {
      "text/plain": [
       "(1.2100000000000002, 1.2186759796158178)"
      ]
     },
     "execution_count": 11,
     "metadata": {},
     "output_type": "execute_result"
    }
   ],
   "source": [
    "src.ProductDistribution(factors).mean(), np.array(src.ProductDistribution(factors).rvs(100000)).mean()"
   ]
  },
  {
   "cell_type": "code",
   "execution_count": 12,
   "metadata": {},
   "outputs": [
    {
     "data": {
      "text/plain": [
       "(11.62282237668631, 11.547593195716336)"
      ]
     },
     "execution_count": 12,
     "metadata": {},
     "output_type": "execute_result"
    }
   ],
   "source": [
    "src.ProductDistribution(factors).std(), np.array(src.ProductDistribution(factors).rvs(100000)).std()"
   ]
  },
  {
   "cell_type": "code",
   "execution_count": 13,
   "metadata": {},
   "outputs": [
    {
     "data": {
      "text/plain": [
       "(0.46238295716396305, 0.41775628222426536)"
      ]
     },
     "execution_count": 13,
     "metadata": {},
     "output_type": "execute_result"
    }
   ],
   "source": [
    "import scipy as sp\n",
    "(src.ProductDistribution(factors).skew(), sp.stats.skew(src.ProductDistribution(factors).rvs(100000)))"
   ]
  },
  {
   "cell_type": "code",
   "execution_count": 14,
   "metadata": {},
   "outputs": [
    {
     "data": {
      "text/plain": [
       "(5.595171030073189, 5.640818971771198)"
      ]
     },
     "execution_count": 14,
     "metadata": {},
     "output_type": "execute_result"
    }
   ],
   "source": [
    "(src.ProductDistribution(factors).kurt(), sp.stats.kurtosis(src.ProductDistribution(factors).rvs(1000000)))"
   ]
  },
  {
   "cell_type": "code",
   "execution_count": null,
   "metadata": {},
   "outputs": [],
   "source": []
  },
  {
   "cell_type": "markdown",
   "metadata": {},
   "source": [
    "## Models"
   ]
  },
  {
   "cell_type": "code",
   "execution_count": 15,
   "metadata": {},
   "outputs": [
    {
     "data": {
      "text/plain": [
       "0.05399096651318806"
      ]
     },
     "execution_count": 15,
     "metadata": {},
     "output_type": "execute_result"
    }
   ],
   "source": [
    "src.NormalModel(mu=0, sigma=1).pdf(2)"
   ]
  },
  {
   "cell_type": "code",
   "execution_count": 16,
   "metadata": {},
   "outputs": [],
   "source": [
    "mm = src.MixtureModel()"
   ]
  },
  {
   "cell_type": "code",
   "execution_count": null,
   "metadata": {},
   "outputs": [],
   "source": []
  },
  {
   "cell_type": "markdown",
   "metadata": {},
   "source": [
    "## HMM Model"
   ]
  },
  {
   "cell_type": "code",
   "execution_count": 19,
   "metadata": {},
   "outputs": [],
   "source": [
    "models = (src.NormalModel(1.07, 0.15), src.NormalModel(1.01, 0.4))\n",
    "trans_mat = np.array([[0.99,0.01],\n",
    "                      [0.05,0.95]])\n",
    "state_vec = [0, 1]\n",
    "hmm = src.HiddenMarkovModel(transition_matrix=trans_mat, state_vector=state_vec, emission_models=models)\n",
    "\n",
    "i=0"
   ]
  },
  {
   "cell_type": "code",
   "execution_count": 20,
   "metadata": {},
   "outputs": [
    {
     "name": "stdout",
     "output_type": "stream",
     "text": [
      "1\n"
     ]
    },
    {
     "data": {
      "image/png": "[encoded data removed]",
      "text/plain": [
       "<Figure size 432x288 with 1 Axes>"
      ]
     },
     "metadata": {
      "needs_background": "light"
     },
     "output_type": "display_data"
    }
   ],
   "source": [
    "i+=1\n",
    "pd.Series(hmm.iterate(i).pdf(np.arange(-1,3,0.01))).plot()\n",
    "print(i)"
   ]
  },
  {
   "cell_type": "code",
   "execution_count": null,
   "metadata": {},
   "outputs": [],
   "source": []
  },
  {
   "cell_type": "code",
   "execution_count": null,
   "metadata": {},
   "outputs": [],
   "source": []
  },
  {
   "cell_type": "code",
   "execution_count": null,
   "metadata": {},
   "outputs": [],
   "source": []
  },
  {
   "cell_type": "code",
   "execution_count": null,
   "metadata": {},
   "outputs": [],
   "source": []
  },
  {
   "cell_type": "code",
   "execution_count": 21,
   "metadata": {
    "scrolled": true
   },
   "outputs": [
    {
     "data": {
      "text/plain": [
       "(<src.models.NormalModel at 0x7f573630f6d8>,\n",
       " <src.models.NormalModel at 0x7f573630f710>)"
      ]
     },
     "execution_count": 21,
     "metadata": {},
     "output_type": "execute_result"
    }
   ],
   "source": [
    "mdls = (src.NormalModel(0.8,0.2), src.NormalModel(1.2,1))\n",
    "hmm = src.HiddenMarkovModel(transition_matrix=np.array([[0.99,0.01],[0.2,0.8]]), state_vector=[0.5,0.5], emission_models=mdls)\n",
    "#hmm.mixture_distribution()\n",
    "hmm.emission_models"
   ]
  },
  {
   "cell_type": "code",
   "execution_count": 22,
   "metadata": {},
   "outputs": [
    {
     "data": {
      "text/plain": [
       "array([[0.67005, 0.32995]])"
      ]
     },
     "execution_count": 22,
     "metadata": {},
     "output_type": "execute_result"
    }
   ],
   "source": [
    "hmm.iterate(2).state_vector"
   ]
  },
  {
   "cell_type": "code",
   "execution_count": 23,
   "metadata": {},
   "outputs": [
    {
     "data": {
      "text/plain": [
       "1.4139433130576027"
      ]
     },
     "execution_count": 23,
     "metadata": {},
     "output_type": "execute_result"
    }
   ],
   "source": [
    "hmm.iterate(2).exkurt()"
   ]
  },
  {
   "cell_type": "code",
   "execution_count": 24,
   "metadata": {},
   "outputs": [
    {
     "data": {
      "text/plain": [
       "0.9148752798696143"
      ]
     },
     "execution_count": 24,
     "metadata": {},
     "output_type": "execute_result"
    }
   ],
   "source": [
    "hmm.iterate(2).entropy()"
   ]
  },
  {
   "cell_type": "code",
   "execution_count": 25,
   "metadata": {},
   "outputs": [
    {
     "data": {
      "text/plain": [
       "0.8143176744895921"
      ]
     },
     "execution_count": 25,
     "metadata": {},
     "output_type": "execute_result"
    }
   ],
   "source": [
    "## add product distribution moments\n",
    "hmm.product_distribution(horizon=3).mean()"
   ]
  },
  {
   "cell_type": "code",
   "execution_count": 26,
   "metadata": {},
   "outputs": [
    {
     "data": {
      "text/plain": [
       "<AxesSubplot:>"
      ]
     },
     "execution_count": 26,
     "metadata": {},
     "output_type": "execute_result"
    },
    {
     "data": {
      "image/png": "[encoded data removed]",
      "text/plain": [
       "<Figure size 432x288 with 1 Axes>"
      ]
     },
     "metadata": {
      "needs_background": "light"
     },
     "output_type": "display_data"
    }
   ],
   "source": [
    "pd.Series(hmm.iterate(2).pdf(np.arange(-1,3,0.01))).plot()"
   ]
  },
  {
   "cell_type": "code",
   "execution_count": null,
   "metadata": {},
   "outputs": [],
   "source": []
  },
  {
   "cell_type": "code",
   "execution_count": null,
   "metadata": {},
   "outputs": [],
   "source": []
  },
  {
   "cell_type": "code",
   "execution_count": null,
   "metadata": {},
   "outputs": [],
   "source": []
  },
  {
   "cell_type": "code",
   "execution_count": 27,
   "metadata": {
    "scrolled": true
   },
   "outputs": [],
   "source": [
    "comps = [(src.NormalDistribution(0,1), 0.5), (src.NormalDistribution(1,1), 0.5)]\n",
    "mix = src.MixtureDistribution(comps)"
   ]
  },
  {
   "cell_type": "code",
   "execution_count": 28,
   "metadata": {
    "scrolled": false
   },
   "outputs": [
    {
     "name": "stderr",
     "output_type": "stream",
     "text": [
      "../src/hmm.py:120: UserWarning: maximum number of iterations reached\n",
      "  warnings.warn('maximum number of iterations reached')\n",
      "../src/hmm.py:350: UserWarning: Transition matrix rounded to 6 decimal places\n",
      "  warnings.warn('Transition matrix rounded to 6 decimal places')\n"
     ]
    },
    {
     "data": {
      "text/plain": [
       "array([[0.452681, 0.547319],\n",
       "       [0.449215, 0.550785]])"
      ]
     },
     "execution_count": 28,
     "metadata": {},
     "output_type": "execute_result"
    }
   ],
   "source": [
    "mdls = [src.NormalModel(0,1), src.NormalModel(1,1)]\n",
    "Y = sp.stats.norm(0.5,2).rvs(100)\n",
    "hmm = src.HiddenMarkovModel(emission_models=mdls)\n",
    "hmm.fit(Y)\n",
    "hmm.component_stds()\n",
    "hmm.transition_matrix"
   ]
  },
  {
   "cell_type": "code",
   "execution_count": 29,
   "metadata": {},
   "outputs": [
    {
     "data": {
      "text/plain": [
       "True"
      ]
     },
     "execution_count": 29,
     "metadata": {},
     "output_type": "execute_result"
    }
   ],
   "source": [
    "m = src.MarkovChain()\n",
    "hasattr(m, 'transition_matrix')\n"
   ]
  },
  {
   "cell_type": "code",
   "execution_count": null,
   "metadata": {},
   "outputs": [],
   "source": []
  },
  {
   "cell_type": "code",
   "execution_count": 30,
   "metadata": {},
   "outputs": [
    {
     "ename": "SyntaxError",
     "evalue": "invalid syntax (<ipython-input-30-d3380b8d88a8>, line 1)",
     "output_type": "error",
     "traceback": [
      "\u001b[0;36m  File \u001b[0;32m\"<ipython-input-30-d3380b8d88a8>\"\u001b[0;36m, line \u001b[0;32m1\u001b[0m\n\u001b[0;31m    np.full(2, 1).\u001b[0m\n\u001b[0m                  ^\u001b[0m\n\u001b[0;31mSyntaxError\u001b[0m\u001b[0;31m:\u001b[0m invalid syntax\n"
     ]
    }
   ],
   "source": [
    "np.full(2, 1)."
   ]
  },
  {
   "cell_type": "code",
   "execution_count": 33,
   "metadata": {},
   "outputs": [
    {
     "data": {
      "text/plain": [
       "[(<src.dists.NormalDistribution at 0x7f5736396d30>, 0.4506923184851965),\n",
       " (<src.dists.NormalDistribution at 0x7f5736396cf8>, 0.5493076815148036)]"
      ]
     },
     "execution_count": 33,
     "metadata": {},
     "output_type": "execute_result"
    }
   ],
   "source": [
    "hmm.components"
   ]
  },
  {
   "cell_type": "code",
   "execution_count": 38,
   "metadata": {},
   "outputs": [
    {
     "name": "stdout",
     "output_type": "stream",
     "text": [
      "1.2117960184514176 -0.8465945408202131\n",
      "1.630439705784666 2.083252469003692\n",
      "[[0.16375391 0.83624609]]\n"
     ]
    },
    {
     "data": {
      "text/plain": [
       "(<src.hmm.HiddenMarkovModel at 0x7f57362b92e8>,\n",
       " {'converged': True,\n",
       "  'iterations': 78,\n",
       "  'scores': {0: -20.335508662401402,\n",
       "   1: -17.892900457018424,\n",
       "   2: -18.234853346604744,\n",
       "   3: -18.686418314539885,\n",
       "   4: -18.637606607890582,\n",
       "   5: -18.809663129882676,\n",
       "   6: -18.72247955111396,\n",
       "   7: -18.777920237816872,\n",
       "   8: -18.7407706784972,\n",
       "   9: -18.750279469465454,\n",
       "   10: -18.73646646723119,\n",
       "   11: -18.733367865878495,\n",
       "   12: -18.726277139867925,\n",
       "   13: -18.72137194041044,\n",
       "   14: -18.716571047141667,\n",
       "   15: -18.712506630568164,\n",
       "   16: -18.70910778679536,\n",
       "   17: -18.706211590217706,\n",
       "   18: -18.70387302508155,\n",
       "   19: -18.7019151672138,\n",
       "   20: -18.700338969867776,\n",
       "   21: -18.699031801988582,\n",
       "   22: -18.697971557845094,\n",
       "   23: -18.697092715529852,\n",
       "   24: -18.696372172747083,\n",
       "   25: -18.695772118184884,\n",
       "   26: -18.695274618827796,\n",
       "   27: -18.694857439747395,\n",
       "   28: -18.694507923864247,\n",
       "   29: -18.69421261908882,\n",
       "   30: -18.693962873872472,\n",
       "   31: -18.693750297941346,\n",
       "   32: -18.693569018192658,\n",
       "   33: -18.693413647180982,\n",
       "   34: -18.693280181413293,\n",
       "   35: -18.693165069150503,\n",
       "   36: -18.693065556011778,\n",
       "   37: -18.692979244715218,\n",
       "   38: -18.692904217953977,\n",
       "   39: -18.69283882329557,\n",
       "   40: -18.69278170882944,\n",
       "   41: -18.692731713818056,\n",
       "   42: -18.69268787226637,\n",
       "   43: -18.692649354774062,\n",
       "   44: -18.69261546192937,\n",
       "   45: -18.692585591849785,\n",
       "   46: -18.692559231656112,\n",
       "   47: -18.692535938435913,\n",
       "   48: -18.692515331572636,\n",
       "   49: -18.692497081040887,\n",
       "   50: -18.6924809012598,\n",
       "   51: -18.692466543581347,\n",
       "   52: -18.69245379160021,\n",
       "   53: -18.692442456150303,\n",
       "   54: -18.692432371800226,\n",
       "   55: -18.692423393414106,\n",
       "   56: -18.692415393551183,\n",
       "   57: -18.692408260039247,\n",
       "   58: -18.69240189404394,\n",
       "   59: -18.69239620831925,\n",
       "   60: -18.692391125767198,\n",
       "   61: -18.692386578153698,\n",
       "   62: -18.692382505026693,\n",
       "   63: -18.692378852759372,\n",
       "   64: -18.69237557373134,\n",
       "   65: -18.692372625606726,\n",
       "   66: -18.69236997070955,\n",
       "   67: -18.69236757547333,\n",
       "   68: -18.69236540996096,\n",
       "   69: -18.69236344744128,\n",
       "   70: -18.69236166401747,\n",
       "   71: -18.692360038298716,\n",
       "   72: -18.692358551110733,\n",
       "   73: -18.692357185239445,\n",
       "   74: -18.692355925204076,\n",
       "   75: -18.692354757055785,\n",
       "   76: -18.692353668198816,\n",
       "   77: -18.692352647231303,\n",
       "   78: -18.692351683803473},\n",
       "  'pdfs': array([[0.21432784, 0.25601958],\n",
       "         [0.14416113, 0.11356663],\n",
       "         [0.23458014, 0.26609083],\n",
       "         [0.10067269, 0.06657913],\n",
       "         [0.19035856, 0.17521975],\n",
       "         [0.19954184, 0.24028989],\n",
       "         [0.17484487, 0.15294197],\n",
       "         [0.14815629, 0.17670044],\n",
       "         [0.05576043, 0.05755753],\n",
       "         [0.15505075, 0.18561383]]),\n",
       "  'smoothened_probabilities': array([[7.00264893e-16, 1.00000000e+00],\n",
       "         [8.39219694e-01, 1.60780306e-01],\n",
       "         [1.59232504e-01, 8.40767496e-01],\n",
       "         [5.42543119e-01, 4.57456881e-01],\n",
       "         [3.65417034e-01, 6.34582966e-01],\n",
       "         [5.47953487e-01, 4.52046513e-01],\n",
       "         [3.33676409e-01, 6.66323591e-01],\n",
       "         [5.92533085e-01, 4.07466915e-01],\n",
       "         [3.55558585e-01, 6.44441415e-01],\n",
       "         [5.88541938e-01, 4.11458062e-01]]),\n",
       "  'filtered_probabilities': array([[9.45051885e-16, 1.00000000e+00],\n",
       "         [8.23025961e-01, 1.76974039e-01],\n",
       "         [1.61396884e-01, 8.38603116e-01],\n",
       "         [6.37508035e-01, 3.62491965e-01],\n",
       "         [2.82776827e-01, 7.17223173e-01],\n",
       "         [6.20029454e-01, 3.79970546e-01],\n",
       "         [2.87233028e-01, 7.12766972e-01],\n",
       "         [6.15173522e-01, 3.84826478e-01],\n",
       "         [3.22934932e-01, 6.77065068e-01],\n",
       "         [5.88541938e-01, 4.11458062e-01]])})"
      ]
     },
     "execution_count": 38,
     "metadata": {},
     "output_type": "execute_result"
    }
   ],
   "source": [
    "Y = sp.stats.norm(0.5,2).rvs(10)\n",
    "print(hmm.emission_models[0].mu, hmm.emission_models[1].mu)\n",
    "print(hmm.emission_models[0].sigma, hmm.emission_models[1].sigma)\n",
    "print(hmm.state_vector)\n",
    "hmm._estimate_baum_welch(Y, max_iter=100, return_fit=True)"
   ]
  },
  {
   "cell_type": "code",
   "execution_count": 40,
   "metadata": {
    "scrolled": true
   },
   "outputs": [],
   "source": [
    "hmm.fit(Y)"
   ]
  },
  {
   "cell_type": "code",
   "execution_count": 45,
   "metadata": {},
   "outputs": [
    {
     "ename": "AttributeError",
     "evalue": "'HiddenMarkovModel' object has no attribute 'smooth_prob_'",
     "output_type": "error",
     "traceback": [
      "\u001b[0;31m---------------------------------------------------------------------------\u001b[0m",
      "\u001b[0;31mAttributeError\u001b[0m                            Traceback (most recent call last)",
      "\u001b[0;32m<ipython-input-45-cd53f30dbe42>\u001b[0m in \u001b[0;36m<module>\u001b[0;34m\u001b[0m\n\u001b[0;32m----> 1\u001b[0;31m \u001b[0mhmm\u001b[0m\u001b[0;34m.\u001b[0m\u001b[0msmooth_prob_\u001b[0m\u001b[0;31m#.shape\u001b[0m\u001b[0;34m\u001b[0m\u001b[0;34m\u001b[0m\u001b[0m\n\u001b[0m",
      "\u001b[0;31mAttributeError\u001b[0m: 'HiddenMarkovModel' object has no attribute 'smooth_prob_'"
     ]
    }
   ],
   "source": [
    "hmm.smooth_prob_#.shape"
   ]
  },
  {
   "cell_type": "code",
   "execution_count": null,
   "metadata": {},
   "outputs": [],
   "source": []
  },
  {
   "cell_type": "code",
   "execution_count": 55,
   "metadata": {
    "scrolled": false
   },
   "outputs": [
    {
     "name": "stdout",
     "output_type": "stream",
     "text": [
      "[2.2031202356936888, 2.2049647280660087] [4.946150136222969, 4.9451803747449725]\n",
      "True\n",
      "[[0.826899 0.173101]\n",
      " [0.084846 0.915154]]\n"
     ]
    },
    {
     "name": "stderr",
     "output_type": "stream",
     "text": [
      "../src/hmm.py:350: UserWarning: Transition matrix rounded to 6 decimal places\n",
      "  warnings.warn('Transition matrix rounded to 6 decimal places')\n"
     ]
    },
    {
     "data": {
      "text/plain": [
       "<AxesSubplot:>"
      ]
     },
     "execution_count": 55,
     "metadata": {},
     "output_type": "execute_result"
    },
    {
     "data": {
      "image/png": "[encoded data removed]",
      "text/plain": [
       "<Figure size 432x288 with 1 Axes>"
      ]
     },
     "metadata": {
      "needs_background": "light"
     },
     "output_type": "display_data"
    }
   ],
   "source": [
    "Y = sp.stats.norm(2,5).rvs(1000)\n",
    "print(hmm.component_means(), hmm.component_stds())\n",
    "hmm, fit = hmm._estimate_baum_welch(Y, max_iter=500, return_fit=True)\n",
    "print(fit['converged'])\n",
    "print(hmm.transition_matrix)\n",
    "pd.Series(fit['scores']).plot()"
   ]
  },
  {
   "cell_type": "code",
   "execution_count": 56,
   "metadata": {},
   "outputs": [
    {
     "data": {
      "text/plain": [
       "<AxesSubplot:>"
      ]
     },
     "execution_count": 56,
     "metadata": {},
     "output_type": "execute_result"
    },
    {
     "data": {
      "image/png": "[encoded data removed]",
      "text/plain": [
       "<Figure size 432x288 with 1 Axes>"
      ]
     },
     "metadata": {
      "needs_background": "light"
     },
     "output_type": "display_data"
    }
   ],
   "source": [
    "pd.Series(hmm.distribution.pdf(np.arange(-8,8,0.1))).plot()"
   ]
  },
  {
   "cell_type": "code",
   "execution_count": 57,
   "metadata": {},
   "outputs": [
    {
     "data": {
      "text/plain": [
       "<src.hmm.HiddenMarkovModel at 0x7f5736072f60>"
      ]
     },
     "execution_count": 57,
     "metadata": {},
     "output_type": "execute_result"
    }
   ],
   "source": [
    "hmm.iterate(1)"
   ]
  },
  {
   "cell_type": "code",
   "execution_count": null,
   "metadata": {},
   "outputs": [],
   "source": []
  },
  {
   "cell_type": "code",
   "execution_count": null,
   "metadata": {},
   "outputs": [],
   "source": []
  },
  {
   "cell_type": "markdown",
   "metadata": {},
   "source": [
    "## Other Simulation"
   ]
  },
  {
   "cell_type": "code",
   "execution_count": 58,
   "metadata": {},
   "outputs": [],
   "source": [
    "sample_1 = pd.DataFrame(sp.stats.multivariate_normal(mean=[1.1, 1.1], cov=[[0.2, 0.1],[0.1, 0.2]]).rvs(10000))"
   ]
  },
  {
   "cell_type": "code",
   "execution_count": 59,
   "metadata": {},
   "outputs": [
    {
     "data": {
      "text/html": [
       "<div>\n",
       "<style scoped>\n",
       "    .dataframe tbody tr th:only-of-type {\n",
       "        vertical-align: middle;\n",
       "    }\n",
       "\n",
       "    .dataframe tbody tr th {\n",
       "        vertical-align: top;\n",
       "    }\n",
       "\n",
       "    .dataframe thead th {\n",
       "        text-align: right;\n",
       "    }\n",
       "</style>\n",
       "<table border=\"1\" class=\"dataframe\">\n",
       "  <thead>\n",
       "    <tr style=\"text-align: right;\">\n",
       "      <th></th>\n",
       "      <th>0</th>\n",
       "      <th>1</th>\n",
       "    </tr>\n",
       "  </thead>\n",
       "  <tbody>\n",
       "    <tr>\n",
       "      <th>0</th>\n",
       "      <td>1.000000</td>\n",
       "      <td>0.499912</td>\n",
       "    </tr>\n",
       "    <tr>\n",
       "      <th>1</th>\n",
       "      <td>0.499912</td>\n",
       "      <td>1.000000</td>\n",
       "    </tr>\n",
       "  </tbody>\n",
       "</table>\n",
       "</div>"
      ],
      "text/plain": [
       "          0         1\n",
       "0  1.000000  0.499912\n",
       "1  0.499912  1.000000"
      ]
     },
     "execution_count": 59,
     "metadata": {},
     "output_type": "execute_result"
    }
   ],
   "source": [
    "sample_1.corr()"
   ]
  },
  {
   "cell_type": "code",
   "execution_count": 60,
   "metadata": {},
   "outputs": [
    {
     "data": {
      "text/html": [
       "<div>\n",
       "<style scoped>\n",
       "    .dataframe tbody tr th:only-of-type {\n",
       "        vertical-align: middle;\n",
       "    }\n",
       "\n",
       "    .dataframe tbody tr th {\n",
       "        vertical-align: top;\n",
       "    }\n",
       "\n",
       "    .dataframe thead th {\n",
       "        text-align: right;\n",
       "    }\n",
       "</style>\n",
       "<table border=\"1\" class=\"dataframe\">\n",
       "  <thead>\n",
       "    <tr style=\"text-align: right;\">\n",
       "      <th></th>\n",
       "      <th>0</th>\n",
       "      <th>1</th>\n",
       "    </tr>\n",
       "  </thead>\n",
       "  <tbody>\n",
       "    <tr>\n",
       "      <th>0</th>\n",
       "      <td>0.199752</td>\n",
       "      <td>0.099412</td>\n",
       "    </tr>\n",
       "    <tr>\n",
       "      <th>1</th>\n",
       "      <td>0.099412</td>\n",
       "      <td>0.197970</td>\n",
       "    </tr>\n",
       "  </tbody>\n",
       "</table>\n",
       "</div>"
      ],
      "text/plain": [
       "          0         1\n",
       "0  0.199752  0.099412\n",
       "1  0.099412  0.197970"
      ]
     },
     "execution_count": 60,
     "metadata": {},
     "output_type": "execute_result"
    }
   ],
   "source": [
    "sample_1.cov()"
   ]
  },
  {
   "cell_type": "code",
   "execution_count": 61,
   "metadata": {},
   "outputs": [],
   "source": [
    "l = 20\n",
    "_ = pd.DataFrame(sp.stats.multivariate_normal(mean=[1.1, 1.1], cov=[[0.2, 0.1],[0.1, 0.2]]).rvs(10000*l))\n",
    "sample_2 = _.groupby(_.index // l).prod()"
   ]
  },
  {
   "cell_type": "code",
   "execution_count": 62,
   "metadata": {},
   "outputs": [
    {
     "data": {
      "text/html": [
       "<div>\n",
       "<style scoped>\n",
       "    .dataframe tbody tr th:only-of-type {\n",
       "        vertical-align: middle;\n",
       "    }\n",
       "\n",
       "    .dataframe tbody tr th {\n",
       "        vertical-align: top;\n",
       "    }\n",
       "\n",
       "    .dataframe thead th {\n",
       "        text-align: right;\n",
       "    }\n",
       "</style>\n",
       "<table border=\"1\" class=\"dataframe\">\n",
       "  <thead>\n",
       "    <tr style=\"text-align: right;\">\n",
       "      <th></th>\n",
       "      <th>0</th>\n",
       "      <th>1</th>\n",
       "    </tr>\n",
       "  </thead>\n",
       "  <tbody>\n",
       "    <tr>\n",
       "      <th>0</th>\n",
       "      <td>1.000000</td>\n",
       "      <td>0.156038</td>\n",
       "    </tr>\n",
       "    <tr>\n",
       "      <th>1</th>\n",
       "      <td>0.156038</td>\n",
       "      <td>1.000000</td>\n",
       "    </tr>\n",
       "  </tbody>\n",
       "</table>\n",
       "</div>"
      ],
      "text/plain": [
       "          0         1\n",
       "0  1.000000  0.156038\n",
       "1  0.156038  1.000000"
      ]
     },
     "execution_count": 62,
     "metadata": {},
     "output_type": "execute_result"
    }
   ],
   "source": [
    "sample_2.corr()"
   ]
  },
  {
   "cell_type": "code",
   "execution_count": 63,
   "metadata": {},
   "outputs": [
    {
     "data": {
      "text/html": [
       "<div>\n",
       "<style scoped>\n",
       "    .dataframe tbody tr th:only-of-type {\n",
       "        vertical-align: middle;\n",
       "    }\n",
       "\n",
       "    .dataframe tbody tr th {\n",
       "        vertical-align: top;\n",
       "    }\n",
       "\n",
       "    .dataframe thead th {\n",
       "        text-align: right;\n",
       "    }\n",
       "</style>\n",
       "<table border=\"1\" class=\"dataframe\">\n",
       "  <thead>\n",
       "    <tr style=\"text-align: right;\">\n",
       "      <th></th>\n",
       "      <th>0</th>\n",
       "      <th>1</th>\n",
       "    </tr>\n",
       "  </thead>\n",
       "  <tbody>\n",
       "    <tr>\n",
       "      <th>0</th>\n",
       "      <td>660.859694</td>\n",
       "      <td>135.690444</td>\n",
       "    </tr>\n",
       "    <tr>\n",
       "      <th>1</th>\n",
       "      <td>135.690444</td>\n",
       "      <td>1144.265391</td>\n",
       "    </tr>\n",
       "  </tbody>\n",
       "</table>\n",
       "</div>"
      ],
      "text/plain": [
       "            0            1\n",
       "0  660.859694   135.690444\n",
       "1  135.690444  1144.265391"
      ]
     },
     "execution_count": 63,
     "metadata": {},
     "output_type": "execute_result"
    }
   ],
   "source": [
    "sample_2.cov()"
   ]
  },
  {
   "cell_type": "code",
   "execution_count": null,
   "metadata": {},
   "outputs": [],
   "source": []
  },
  {
   "cell_type": "code",
   "execution_count": null,
   "metadata": {},
   "outputs": [],
   "source": []
  },
  {
   "cell_type": "code",
   "execution_count": null,
   "metadata": {},
   "outputs": [],
   "source": []
  },
  {
   "cell_type": "code",
   "execution_count": 64,
   "metadata": {},
   "outputs": [
    {
     "data": {
      "text/plain": [
       "dict_keys(['__header__', '__version__', '__globals__', 'X', 'y'])"
      ]
     },
     "execution_count": 64,
     "metadata": {},
     "output_type": "execute_result"
    }
   ],
   "source": [
    "from scipy.io import loadmat\n",
    "loadmat('ex4data1.mat').keys()"
   ]
  }
 ],
 "metadata": {
  "kernelspec": {
   "display_name": "Python 3",
   "language": "python",
   "name": "python3"
  },
  "language_info": {
   "codemirror_mode": {
    "name": "ipython",
    "version": 3
   },
   "file_extension": ".py",
   "mimetype": "text/x-python",
   "name": "python",
   "nbconvert_exporter": "python",
   "pygments_lexer": "ipython3",
   "version": "3.6.9"
  }
 },
 "nbformat": 4,
 "nbformat_minor": 4
}
